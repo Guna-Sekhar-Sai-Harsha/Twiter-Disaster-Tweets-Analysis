{
  "nbformat": 4,
  "nbformat_minor": 0,
  "metadata": {
    "colab": {
      "name": "Untitled22.ipynb",
      "provenance": [],
      "collapsed_sections": [
        "WXJ9TIWb8qbL",
        "pWyXmUwv8uav",
        "NgnO3Wqk_4Cp",
        "DfG_GhYtA-GL",
        "w39LTM3KBmIC",
        "CImymbfICT56",
        "ENg5hJAcCzec",
        "B6utuN_6Dlog",
        "RxTKra6wD7m7"
      ]
    },
    "kernelspec": {
      "name": "python3",
      "display_name": "Python 3"
    },
    "language_info": {
      "name": "python"
    }
  },
  "cells": [
    {
      "cell_type": "markdown",
      "source": [
        "# Importing Libraries"
      ],
      "metadata": {
        "id": "WXJ9TIWb8qbL"
      }
    },
    {
      "cell_type": "code",
      "execution_count": 1,
      "metadata": {
        "colab": {
          "base_uri": "https://localhost:8080/"
        },
        "id": "9JjlvKHL8Hac",
        "outputId": "00800c61-1655-4d06-8c2f-bb45b8d12dd3"
      },
      "outputs": [
        {
          "output_type": "stream",
          "name": "stdout",
          "text": [
            "[nltk_data] Downloading package stopwords to /root/nltk_data...\n",
            "[nltk_data]   Unzipping corpora/stopwords.zip.\n",
            "[nltk_data] Downloading package punkt to /root/nltk_data...\n",
            "[nltk_data]   Unzipping tokenizers/punkt.zip.\n"
          ]
        }
      ],
      "source": [
        "import re\n",
        "import numpy as np\n",
        "import pandas as pd\n",
        "import matplotlib.pyplot as plt\n",
        "import seaborn as sns\n",
        "from collections import defaultdict\n",
        "%matplotlib inline\n",
        "import nltk\n",
        "from nltk.corpus import stopwords\n",
        "from nltk.stem import PorterStemmer\n",
        "from nltk.stem.snowball import SnowballStemmer\n",
        "from nltk.stem import WordNetLemmatizer\n",
        "from nltk.tokenize import word_tokenize\n",
        "nltk.download('stopwords')\n",
        "nltk.download('punkt')\n",
        "from sklearn.model_selection import train_test_split\n",
        "from sklearn.model_selection import GridSearchCV\n",
        "from sklearn import metrics\n",
        "from sklearn.metrics import accuracy_score\n",
        "from sklearn.svm import SVC\n",
        "from sklearn.svm import LinearSVC\n",
        "from sklearn.metrics import confusion_matrix, plot_confusion_matrix\n",
        "from sklearn.naive_bayes import MultinomialNB\n",
        "from sklearn.linear_model import LogisticRegression\n",
        "from sklearn.neighbors import KNeighborsClassifier\n",
        "from sklearn.ensemble import RandomForestClassifier\n",
        "from sklearn.ensemble import AdaBoostClassifier\n",
        "from sklearn.ensemble import GradientBoostingClassifier\n",
        "from sklearn.feature_extraction.text import TfidfVectorizer\n",
        "from sklearn.feature_extraction.text import CountVectorizer\n",
        "\n",
        "import warnings\n",
        "warnings.filterwarnings('ignore')\n",
        "warnings.simplefilter('ignore')\n"
      ]
    },
    {
      "cell_type": "markdown",
      "source": [
        "# Preprocessing"
      ],
      "metadata": {
        "id": "pWyXmUwv8uav"
      }
    },
    {
      "cell_type": "code",
      "source": [
        "train = pd.read_csv('/content/drive/MyDrive/train.csv')\n",
        "test = pd.read_csv('/content/drive/MyDrive/test.csv')\n",
        "train.head()"
      ],
      "metadata": {
        "colab": {
          "base_uri": "https://localhost:8080/",
          "height": 652
        },
        "id": "hZ3Lkmja8zrX",
        "outputId": "67fc7a16-6601-47e0-df03-dd42ab6fab90"
      },
      "execution_count": 2,
      "outputs": [
        {
          "output_type": "execute_result",
          "data": {
            "text/plain": [
              "   id keyword location                                               text  \\\n",
              "0   1     NaN      NaN  Our Deeds are the Reason of this #earthquake M...   \n",
              "1   4     NaN      NaN             Forest fire near La Ronge Sask. Canada   \n",
              "2   5     NaN      NaN  All residents asked to 'shelter in place' are ...   \n",
              "3   6     NaN      NaN  13,000 people receive #wildfires evacuation or...   \n",
              "4   7     NaN      NaN  Just got sent this photo from Ruby #Alaska as ...   \n",
              "\n",
              "   target  \n",
              "0       1  \n",
              "1       1  \n",
              "2       1  \n",
              "3       1  \n",
              "4       1  "
            ],
            "text/html": [
              "\n",
              "  <div id=\"df-d1b01191-207a-45d5-bd40-6adbeb308309\">\n",
              "    <div class=\"colab-df-container\">\n",
              "      <div>\n",
              "<style scoped>\n",
              "    .dataframe tbody tr th:only-of-type {\n",
              "        vertical-align: middle;\n",
              "    }\n",
              "\n",
              "    .dataframe tbody tr th {\n",
              "        vertical-align: top;\n",
              "    }\n",
              "\n",
              "    .dataframe thead th {\n",
              "        text-align: right;\n",
              "    }\n",
              "</style>\n",
              "<table border=\"1\" class=\"dataframe\">\n",
              "  <thead>\n",
              "    <tr style=\"text-align: right;\">\n",
              "      <th></th>\n",
              "      <th>id</th>\n",
              "      <th>keyword</th>\n",
              "      <th>location</th>\n",
              "      <th>text</th>\n",
              "      <th>target</th>\n",
              "    </tr>\n",
              "  </thead>\n",
              "  <tbody>\n",
              "    <tr>\n",
              "      <th>0</th>\n",
              "      <td>1</td>\n",
              "      <td>NaN</td>\n",
              "      <td>NaN</td>\n",
              "      <td>Our Deeds are the Reason of this #earthquake M...</td>\n",
              "      <td>1</td>\n",
              "    </tr>\n",
              "    <tr>\n",
              "      <th>1</th>\n",
              "      <td>4</td>\n",
              "      <td>NaN</td>\n",
              "      <td>NaN</td>\n",
              "      <td>Forest fire near La Ronge Sask. Canada</td>\n",
              "      <td>1</td>\n",
              "    </tr>\n",
              "    <tr>\n",
              "      <th>2</th>\n",
              "      <td>5</td>\n",
              "      <td>NaN</td>\n",
              "      <td>NaN</td>\n",
              "      <td>All residents asked to 'shelter in place' are ...</td>\n",
              "      <td>1</td>\n",
              "    </tr>\n",
              "    <tr>\n",
              "      <th>3</th>\n",
              "      <td>6</td>\n",
              "      <td>NaN</td>\n",
              "      <td>NaN</td>\n",
              "      <td>13,000 people receive #wildfires evacuation or...</td>\n",
              "      <td>1</td>\n",
              "    </tr>\n",
              "    <tr>\n",
              "      <th>4</th>\n",
              "      <td>7</td>\n",
              "      <td>NaN</td>\n",
              "      <td>NaN</td>\n",
              "      <td>Just got sent this photo from Ruby #Alaska as ...</td>\n",
              "      <td>1</td>\n",
              "    </tr>\n",
              "  </tbody>\n",
              "</table>\n",
              "</div>\n",
              "      <button class=\"colab-df-convert\" onclick=\"convertToInteractive('df-d1b01191-207a-45d5-bd40-6adbeb308309')\"\n",
              "              title=\"Convert this dataframe to an interactive table.\"\n",
              "              style=\"display:none;\">\n",
              "        \n",
              "  <svg xmlns=\"http://www.w3.org/2000/svg\" height=\"24px\"viewBox=\"0 0 24 24\"\n",
              "       width=\"24px\">\n",
              "    <path d=\"M0 0h24v24H0V0z\" fill=\"none\"/>\n",
              "    <path d=\"M18.56 5.44l.94 2.06.94-2.06 2.06-.94-2.06-.94-.94-2.06-.94 2.06-2.06.94zm-11 1L8.5 8.5l.94-2.06 2.06-.94-2.06-.94L8.5 2.5l-.94 2.06-2.06.94zm10 10l.94 2.06.94-2.06 2.06-.94-2.06-.94-.94-2.06-.94 2.06-2.06.94z\"/><path d=\"M17.41 7.96l-1.37-1.37c-.4-.4-.92-.59-1.43-.59-.52 0-1.04.2-1.43.59L10.3 9.45l-7.72 7.72c-.78.78-.78 2.05 0 2.83L4 21.41c.39.39.9.59 1.41.59.51 0 1.02-.2 1.41-.59l7.78-7.78 2.81-2.81c.8-.78.8-2.07 0-2.86zM5.41 20L4 18.59l7.72-7.72 1.47 1.35L5.41 20z\"/>\n",
              "  </svg>\n",
              "      </button>\n",
              "      \n",
              "  <style>\n",
              "    .colab-df-container {\n",
              "      display:flex;\n",
              "      flex-wrap:wrap;\n",
              "      gap: 12px;\n",
              "    }\n",
              "\n",
              "    .colab-df-convert {\n",
              "      background-color: #E8F0FE;\n",
              "      border: none;\n",
              "      border-radius: 50%;\n",
              "      cursor: pointer;\n",
              "      display: none;\n",
              "      fill: #1967D2;\n",
              "      height: 32px;\n",
              "      padding: 0 0 0 0;\n",
              "      width: 32px;\n",
              "    }\n",
              "\n",
              "    .colab-df-convert:hover {\n",
              "      background-color: #E2EBFA;\n",
              "      box-shadow: 0px 1px 2px rgba(60, 64, 67, 0.3), 0px 1px 3px 1px rgba(60, 64, 67, 0.15);\n",
              "      fill: #174EA6;\n",
              "    }\n",
              "\n",
              "    [theme=dark] .colab-df-convert {\n",
              "      background-color: #3B4455;\n",
              "      fill: #D2E3FC;\n",
              "    }\n",
              "\n",
              "    [theme=dark] .colab-df-convert:hover {\n",
              "      background-color: #434B5C;\n",
              "      box-shadow: 0px 1px 3px 1px rgba(0, 0, 0, 0.15);\n",
              "      filter: drop-shadow(0px 1px 2px rgba(0, 0, 0, 0.3));\n",
              "      fill: #FFFFFF;\n",
              "    }\n",
              "  </style>\n",
              "\n",
              "      <script>\n",
              "        const buttonEl =\n",
              "          document.querySelector('#df-d1b01191-207a-45d5-bd40-6adbeb308309 button.colab-df-convert');\n",
              "        buttonEl.style.display =\n",
              "          google.colab.kernel.accessAllowed ? 'block' : 'none';\n",
              "\n",
              "        async function convertToInteractive(key) {\n",
              "          const element = document.querySelector('#df-d1b01191-207a-45d5-bd40-6adbeb308309');\n",
              "          const dataTable =\n",
              "            await google.colab.kernel.invokeFunction('convertToInteractive',\n",
              "                                                     [key], {});\n",
              "          if (!dataTable) return;\n",
              "\n",
              "          const docLinkHtml = 'Like what you see? Visit the ' +\n",
              "            '<a target=\"_blank\" href=https://colab.research.google.com/notebooks/data_table.ipynb>data table notebook</a>'\n",
              "            + ' to learn more about interactive tables.';\n",
              "          element.innerHTML = '';\n",
              "          dataTable['output_type'] = 'display_data';\n",
              "          await google.colab.output.renderOutput(dataTable, element);\n",
              "          const docLink = document.createElement('div');\n",
              "          docLink.innerHTML = docLinkHtml;\n",
              "          element.appendChild(docLink);\n",
              "        }\n",
              "      </script>\n",
              "    </div>\n",
              "  </div>\n",
              "  "
            ]
          },
          "metadata": {},
          "execution_count": 2
        }
      ]
    },
    {
      "cell_type": "code",
      "source": [
        "train = train.drop(['keyword','location'], axis = 1)\n",
        "test = test.drop(['keyword','location'], axis = 1)\n",
        "train.head()"
      ],
      "metadata": {
        "colab": {
          "base_uri": "https://localhost:8080/",
          "height": 652
        },
        "id": "aMk6RuCK8_lR",
        "outputId": "01c20993-f16f-4408-9857-41faf2ff8ae7"
      },
      "execution_count": 3,
      "outputs": [
        {
          "output_type": "execute_result",
          "data": {
            "text/plain": [
              "   id                                               text  target\n",
              "0   1  Our Deeds are the Reason of this #earthquake M...       1\n",
              "1   4             Forest fire near La Ronge Sask. Canada       1\n",
              "2   5  All residents asked to 'shelter in place' are ...       1\n",
              "3   6  13,000 people receive #wildfires evacuation or...       1\n",
              "4   7  Just got sent this photo from Ruby #Alaska as ...       1"
            ],
            "text/html": [
              "\n",
              "  <div id=\"df-c7c8d148-11ef-4614-a97d-38430de86a4c\">\n",
              "    <div class=\"colab-df-container\">\n",
              "      <div>\n",
              "<style scoped>\n",
              "    .dataframe tbody tr th:only-of-type {\n",
              "        vertical-align: middle;\n",
              "    }\n",
              "\n",
              "    .dataframe tbody tr th {\n",
              "        vertical-align: top;\n",
              "    }\n",
              "\n",
              "    .dataframe thead th {\n",
              "        text-align: right;\n",
              "    }\n",
              "</style>\n",
              "<table border=\"1\" class=\"dataframe\">\n",
              "  <thead>\n",
              "    <tr style=\"text-align: right;\">\n",
              "      <th></th>\n",
              "      <th>id</th>\n",
              "      <th>text</th>\n",
              "      <th>target</th>\n",
              "    </tr>\n",
              "  </thead>\n",
              "  <tbody>\n",
              "    <tr>\n",
              "      <th>0</th>\n",
              "      <td>1</td>\n",
              "      <td>Our Deeds are the Reason of this #earthquake M...</td>\n",
              "      <td>1</td>\n",
              "    </tr>\n",
              "    <tr>\n",
              "      <th>1</th>\n",
              "      <td>4</td>\n",
              "      <td>Forest fire near La Ronge Sask. Canada</td>\n",
              "      <td>1</td>\n",
              "    </tr>\n",
              "    <tr>\n",
              "      <th>2</th>\n",
              "      <td>5</td>\n",
              "      <td>All residents asked to 'shelter in place' are ...</td>\n",
              "      <td>1</td>\n",
              "    </tr>\n",
              "    <tr>\n",
              "      <th>3</th>\n",
              "      <td>6</td>\n",
              "      <td>13,000 people receive #wildfires evacuation or...</td>\n",
              "      <td>1</td>\n",
              "    </tr>\n",
              "    <tr>\n",
              "      <th>4</th>\n",
              "      <td>7</td>\n",
              "      <td>Just got sent this photo from Ruby #Alaska as ...</td>\n",
              "      <td>1</td>\n",
              "    </tr>\n",
              "  </tbody>\n",
              "</table>\n",
              "</div>\n",
              "      <button class=\"colab-df-convert\" onclick=\"convertToInteractive('df-c7c8d148-11ef-4614-a97d-38430de86a4c')\"\n",
              "              title=\"Convert this dataframe to an interactive table.\"\n",
              "              style=\"display:none;\">\n",
              "        \n",
              "  <svg xmlns=\"http://www.w3.org/2000/svg\" height=\"24px\"viewBox=\"0 0 24 24\"\n",
              "       width=\"24px\">\n",
              "    <path d=\"M0 0h24v24H0V0z\" fill=\"none\"/>\n",
              "    <path d=\"M18.56 5.44l.94 2.06.94-2.06 2.06-.94-2.06-.94-.94-2.06-.94 2.06-2.06.94zm-11 1L8.5 8.5l.94-2.06 2.06-.94-2.06-.94L8.5 2.5l-.94 2.06-2.06.94zm10 10l.94 2.06.94-2.06 2.06-.94-2.06-.94-.94-2.06-.94 2.06-2.06.94z\"/><path d=\"M17.41 7.96l-1.37-1.37c-.4-.4-.92-.59-1.43-.59-.52 0-1.04.2-1.43.59L10.3 9.45l-7.72 7.72c-.78.78-.78 2.05 0 2.83L4 21.41c.39.39.9.59 1.41.59.51 0 1.02-.2 1.41-.59l7.78-7.78 2.81-2.81c.8-.78.8-2.07 0-2.86zM5.41 20L4 18.59l7.72-7.72 1.47 1.35L5.41 20z\"/>\n",
              "  </svg>\n",
              "      </button>\n",
              "      \n",
              "  <style>\n",
              "    .colab-df-container {\n",
              "      display:flex;\n",
              "      flex-wrap:wrap;\n",
              "      gap: 12px;\n",
              "    }\n",
              "\n",
              "    .colab-df-convert {\n",
              "      background-color: #E8F0FE;\n",
              "      border: none;\n",
              "      border-radius: 50%;\n",
              "      cursor: pointer;\n",
              "      display: none;\n",
              "      fill: #1967D2;\n",
              "      height: 32px;\n",
              "      padding: 0 0 0 0;\n",
              "      width: 32px;\n",
              "    }\n",
              "\n",
              "    .colab-df-convert:hover {\n",
              "      background-color: #E2EBFA;\n",
              "      box-shadow: 0px 1px 2px rgba(60, 64, 67, 0.3), 0px 1px 3px 1px rgba(60, 64, 67, 0.15);\n",
              "      fill: #174EA6;\n",
              "    }\n",
              "\n",
              "    [theme=dark] .colab-df-convert {\n",
              "      background-color: #3B4455;\n",
              "      fill: #D2E3FC;\n",
              "    }\n",
              "\n",
              "    [theme=dark] .colab-df-convert:hover {\n",
              "      background-color: #434B5C;\n",
              "      box-shadow: 0px 1px 3px 1px rgba(0, 0, 0, 0.15);\n",
              "      filter: drop-shadow(0px 1px 2px rgba(0, 0, 0, 0.3));\n",
              "      fill: #FFFFFF;\n",
              "    }\n",
              "  </style>\n",
              "\n",
              "      <script>\n",
              "        const buttonEl =\n",
              "          document.querySelector('#df-c7c8d148-11ef-4614-a97d-38430de86a4c button.colab-df-convert');\n",
              "        buttonEl.style.display =\n",
              "          google.colab.kernel.accessAllowed ? 'block' : 'none';\n",
              "\n",
              "        async function convertToInteractive(key) {\n",
              "          const element = document.querySelector('#df-c7c8d148-11ef-4614-a97d-38430de86a4c');\n",
              "          const dataTable =\n",
              "            await google.colab.kernel.invokeFunction('convertToInteractive',\n",
              "                                                     [key], {});\n",
              "          if (!dataTable) return;\n",
              "\n",
              "          const docLinkHtml = 'Like what you see? Visit the ' +\n",
              "            '<a target=\"_blank\" href=https://colab.research.google.com/notebooks/data_table.ipynb>data table notebook</a>'\n",
              "            + ' to learn more about interactive tables.';\n",
              "          element.innerHTML = '';\n",
              "          dataTable['output_type'] = 'display_data';\n",
              "          await google.colab.output.renderOutput(dataTable, element);\n",
              "          const docLink = document.createElement('div');\n",
              "          docLink.innerHTML = docLinkHtml;\n",
              "          element.appendChild(docLink);\n",
              "        }\n",
              "      </script>\n",
              "    </div>\n",
              "  </div>\n",
              "  "
            ]
          },
          "metadata": {},
          "execution_count": 3
        }
      ]
    },
    {
      "cell_type": "code",
      "source": [
        "# Checking Shape of Train and Test sets:\n",
        "print(\"Shape of Train set:\", train.shape)\n",
        "print(\"Shape of Test set:\", test.shape)"
      ],
      "metadata": {
        "colab": {
          "base_uri": "https://localhost:8080/"
        },
        "id": "Ediqo7Ke9EkP",
        "outputId": "199b2229-a9da-40be-c0e0-8acd5cb33e02"
      },
      "execution_count": 4,
      "outputs": [
        {
          "output_type": "stream",
          "name": "stdout",
          "text": [
            "Shape of Train set: (7613, 3)\n",
            "Shape of Test set: (3263, 2)\n"
          ]
        }
      ]
    },
    {
      "cell_type": "code",
      "source": [
        "# Removing duplicates of Train set. There are few duplicates in Test set as well,\n",
        "# however, duplicates of Test set can'b be removed because the final test with target has to be uploaded as a submission file\n",
        "\n",
        "train = train.drop_duplicates(subset=['text'], keep='last')\n",
        "print(\"Shape of Train set after removing duplicates:\", train.shape)"
      ],
      "metadata": {
        "colab": {
          "base_uri": "https://localhost:8080/"
        },
        "id": "RYt0Xreb9KOY",
        "outputId": "3f23bc66-44c1-4053-c319-dee93942f903"
      },
      "execution_count": 5,
      "outputs": [
        {
          "output_type": "stream",
          "name": "stdout",
          "text": [
            "Shape of Train set after removing duplicates: (7503, 3)\n"
          ]
        }
      ]
    },
    {
      "cell_type": "code",
      "source": [
        "train[train['text'].map(lambda x: x.isascii())]\n",
        "test[test['text'].map(lambda x: x.isascii())]\n",
        "\n",
        "# Cleaning Tweets\n",
        "def clean_tweets(text):\n",
        "    text = re.sub(r'@[A-Za-z0-9_]+','',text)    # Removing @mentions\n",
        "    text = re.sub(r'#','',text)                 # Removing #tag symbol\n",
        "    text = re.sub(r'RT[\\s]+',' ',text)          # Remvoing RT\n",
        "    text = re.sub(r'\\n','',text) \n",
        "    text = re.sub(r',','',text) \n",
        "    text = re.sub(r'.[.]+','',text) \n",
        "    text = re.sub(r'\\w+:\\/\\/\\S+','',text) \n",
        "    text = re.sub(r'https?:\\/\\/\\S+','',text)    # Removing hyperlinks\n",
        "    text = re.sub(r'/',' ',text)\n",
        "    text = re.sub(r'-',' ',text)\n",
        "    text = re.sub(r'_',' ',text)\n",
        "    text = re.sub(r'!','',text)\n",
        "    text = re.sub(r':',' ',text)\n",
        "    text = re.sub(r'$','',text)\n",
        "    text = re.sub(r'%','',text)\n",
        "    text = re.sub(r'^','',text)\n",
        "    text = re.sub(r'&','',text)\n",
        "    text = re.sub(r'=',' ',text)\n",
        "    text = re.sub(r' +',' ',text)               # Removing extra whitespaces\n",
        "\n",
        "    return text\n",
        "\n",
        "# Removing Emojis\n",
        "def clean_emoji(inputString):\n",
        "    return inputString.encode('ascii', 'ignore').decode('ascii')\n",
        "\n",
        "train['text'] = train['text'].apply(clean_tweets)    # Applying function to clean tweets\n",
        "train['text'] = train['text'].apply(clean_emoji)     # Applying function to remove emojis\n",
        "train['text'] = train.text.str.lower()               # Making all texts to lower case\n",
        "train['text'] = train['text'].str.strip()            # Removing leading and trailing whitespaces\n",
        "\n",
        "test['text'] = test['text'].apply(clean_tweets)      # Applying function to clean tweets\n",
        "test['text'] = test['text'].apply(clean_emoji)       # Applying function to remove emojis\n",
        "test['text'] = test.text.str.lower()                 # Making all texts to lower case\n",
        "test['text'] = test['text'].str.strip()              # Removing leading and trailing whitespaces\n",
        "#pd.set_option('display.max_rows', None)\n",
        "pd.set_option('display.max_colwidth', -1)"
      ],
      "metadata": {
        "id": "I6I1dfyZ9QOe"
      },
      "execution_count": 6,
      "outputs": []
    },
    {
      "cell_type": "markdown",
      "source": [
        "\n",
        "Labels are as follows:¶\n",
        "\n",
        "'target' -> This denotes whether a tweet is about a real disaster (1) or not (0)"
      ],
      "metadata": {
        "id": "ua2QGrYW90Xz"
      }
    },
    {
      "cell_type": "code",
      "source": [
        "train['target'].value_counts()"
      ],
      "metadata": {
        "colab": {
          "base_uri": "https://localhost:8080/"
        },
        "id": "2DjK88OJ9rE3",
        "outputId": "b9924a45-db6d-4221-d2ec-9f41f5aae386"
      },
      "execution_count": 7,
      "outputs": [
        {
          "output_type": "execute_result",
          "data": {
            "text/plain": [
              "0    4307\n",
              "1    3196\n",
              "Name: target, dtype: int64"
            ]
          },
          "metadata": {},
          "execution_count": 7
        }
      ]
    },
    {
      "cell_type": "markdown",
      "source": [
        "# Setups:\n",
        "\n",
        "Each of our classification models (SVM, Naive Bayes, Logistic Regression, K Nearest Neighbours, Ada Boost, Gradient boosting and Random Forest) were\n",
        "tested on the following setups:\n",
        "\n",
        "1. **Setup 1: Removing Punctuation:** All the models are trained and tested after removing punctuations from the corpus.\n",
        "2. **Setup 2: Removing Stop-words:** All the models are trained and tested after removing stop-words from the corpus.\n",
        "3. **Setup 3: Removing Numbers:** All the models are trained and tested after removing numbers from the corpus.\n",
        "4. **Setup 4: Removing Repeating Characters:** All the models are trained and tested after removing repeating characters.\n",
        "5. **Setup 5: Stemming and Lemmatization:** All the models are trained and tested after applying stemming and lemmatization.\n",
        "6. **Setup 6: Setup 1–5:** All the models are trained and tested after removing punctuation, stop-words, numbers, repeating words, stemming and lemmatization.\n",
        "7. **Setup 7: Keeping all above features:** All the models are trained and tested without eliminating any of the above special features."
      ],
      "metadata": {
        "id": "fcf6CSyP96NT"
      }
    },
    {
      "cell_type": "markdown",
      "source": [
        "# Models:\n",
        "### These models with hyperparameters will be used by all setups, to find the best setup and best model:"
      ],
      "metadata": {
        "id": "5PGMenKL9_V0"
      }
    },
    {
      "cell_type": "code",
      "source": [
        "# making a dictionary with four models with some parameters:\n",
        "\n",
        "model_params = {\n",
        "    \n",
        "    'SVC' :{\n",
        "        'model' : SVC(),\n",
        "        'params' : {\n",
        "            'C': [0.1, 1, 10], 'gamma': [1, 0.1, 0.01], 'kernel': ['rbf','linear','poly','sigmoid']\n",
        "        }\n",
        "    },\n",
        "    \n",
        "    'MultinomialNB' :{\n",
        "        'model' : MultinomialNB(),\n",
        "        'params' : {\n",
        "            'alpha' : np.linspace(0.5, 1.5, 6), 'fit_prior' : [True, False]\n",
        "        }\n",
        "    },\n",
        "    \n",
        "    'logistics_regression' :{\n",
        "        'model' : LogisticRegression(solver = 'lbfgs', multi_class = 'auto'),\n",
        "        'params' : {\n",
        "            'C' : [0.1, 1, 20, 40, 60, 80, 100], 'solver' : ['lbfgs', 'liblinear']\n",
        "        }\n",
        "    },\n",
        "    'K_Nearest_Neighbors' :{\n",
        "        'model' : KNeighborsClassifier(),\n",
        "        'params' : {\n",
        "            'n_neighbors' : [5, 10, 20, 50, 80, 100, 200], 'weights' : ['uniform', 'distance']\n",
        "        }\n",
        "    },\n",
        "    \n",
        "    'random_forest' :{\n",
        "        'model' : RandomForestClassifier(),\n",
        "        'params' : {\n",
        "            'n_estimators' : [50,100,150], \n",
        "            'max_depth':[2,3,None], 'criterion':['gini','entropy']\n",
        "        }\n",
        "    },\n",
        "    'AdaBoost' :{\n",
        "        'model' : AdaBoostClassifier(),\n",
        "        'params' : {\n",
        "            'n_estimators' : [50,100,150], 'learning_rate' : [0.5,1,1.5]\n",
        "        }\n",
        "    }\n",
        "    #'Gradient_Boosting' :{ 'model' : GradientBoostingClassifier(),'params' : {'n_estimators' : [50,100,150], 'criterion':['friedman_mse', 'squared_error', 'mae']}}\n",
        "}"
      ],
      "metadata": {
        "id": "CuM8SQvp97sM"
      },
      "execution_count": 8,
      "outputs": []
    },
    {
      "cell_type": "markdown",
      "source": [
        "## Setup 1: Models after removing Punctuations:"
      ],
      "metadata": {
        "id": "AelNKsgW-K9v"
      }
    },
    {
      "cell_type": "code",
      "source": [
        "# Creating a df that is copy of the train set.\n",
        "df = train.copy()"
      ],
      "metadata": {
        "id": "BDsauwT7-IWT"
      },
      "execution_count": 9,
      "outputs": []
    },
    {
      "cell_type": "markdown",
      "source": [
        "### Removing Punctuations:"
      ],
      "metadata": {
        "id": "gxw_YKd6-RjY"
      }
    },
    {
      "cell_type": "code",
      "source": [
        "import string\n",
        "string.punctuation"
      ],
      "metadata": {
        "colab": {
          "base_uri": "https://localhost:8080/",
          "height": 35
        },
        "id": "Lb_V0rga-SW4",
        "outputId": "fd0ed566-3369-42b7-88b4-6b2951d1a2ef"
      },
      "execution_count": 10,
      "outputs": [
        {
          "output_type": "execute_result",
          "data": {
            "text/plain": [
              "'!\"#$%&\\'()*+,-./:;<=>?@[\\\\]^_`{|}~'"
            ],
            "application/vnd.google.colaboratory.intrinsic+json": {
              "type": "string"
            }
          },
          "metadata": {},
          "execution_count": 10
        }
      ]
    },
    {
      "cell_type": "code",
      "source": [
        "punctuations_list = string.punctuation\n",
        "def cleaning_punctuations(text):\n",
        "    translator = str.maketrans('', '', punctuations_list)\n",
        "    return text.translate(translator)\n",
        "\n",
        "df['text'] = df['text'].apply(lambda x: cleaning_punctuations(x))"
      ],
      "metadata": {
        "id": "ikh2mtLr_O83"
      },
      "execution_count": 11,
      "outputs": []
    },
    {
      "cell_type": "markdown",
      "source": [
        "### Splitting data into Train and Test :"
      ],
      "metadata": {
        "id": "P3uSHylU_Tih"
      }
    },
    {
      "cell_type": "code",
      "source": [
        "# Splitting data into Train and Test sets:\n",
        "X = df['text']\n",
        "y = df['target']\n",
        "X_train, X_test, y_train, y_test =  train_test_split(X, y, test_size = 0.2, random_state = 3)"
      ],
      "metadata": {
        "id": "QT3gcmkO_XU_"
      },
      "execution_count": 12,
      "outputs": []
    },
    {
      "cell_type": "markdown",
      "source": [
        "### Transforming dataset using TF-IDF Vectorizer:"
      ],
      "metadata": {
        "id": "GXW4zBV5_cIB"
      }
    },
    {
      "cell_type": "code",
      "source": [
        "# Extracting features using TF-IDF (1,2) - unigrams and bigrams\n",
        "vectoriser = TfidfVectorizer(ngram_range=(1,2), max_features=500000)\n",
        "vectoriser.fit(X_train)\n",
        "print('No. of feature_words: ', len(vectoriser.get_feature_names()))\n",
        "\n",
        "# Transforming the data using TD-IDF Vectorizer\n",
        "X_train = vectoriser.transform(X_train)\n",
        "X_test  = vectoriser.transform(X_test)"
      ],
      "metadata": {
        "colab": {
          "base_uri": "https://localhost:8080/"
        },
        "id": "9maXRzcG_dCg",
        "outputId": "b7429bbe-2982-4a3c-a0b5-fb44cca2026f"
      },
      "execution_count": 13,
      "outputs": [
        {
          "output_type": "stream",
          "name": "stdout",
          "text": [
            "No. of feature_words:  62381\n"
          ]
        }
      ]
    },
    {
      "cell_type": "markdown",
      "source": [
        "### Results:"
      ],
      "metadata": {
        "id": "01RxPSer_fP6"
      }
    },
    {
      "cell_type": "code",
      "source": [
        "%%time\n",
        "\n",
        "# implemented GridSearchCV for four models using a loop and a previously created dictionary\n",
        "# in the created variable 'scores', results are stored for each model such as: model, best_score and best_params.\n",
        "\n",
        "\n",
        "scores = []\n",
        "\n",
        "for model_name, mp in model_params.items():\n",
        "    clf = GridSearchCV(mp['model'], mp['params'], cv=5, n_jobs=-1, verbose=1) # Using Cross Validation of 5 and n_jobs=-1 for fast training by using all the processors\n",
        "    print(mp['model'])\n",
        "    print('\\nTraining the model...')\n",
        "    best_model = clf.fit(X_train, y_train)                      # Training the model\n",
        "    clf_pred = best_model.predict(X_test)                       # Predicting the results\n",
        "    print(confusion_matrix(y_test,clf_pred))                    # Printing Confusion Matrix\n",
        "    print(metrics.classification_report(y_test, clf_pred))      # Printing Classification Report\n",
        "    scores.append({                                             # Appending results to 'scores' list\n",
        "        'model' : model_name,\n",
        "        'best_score' : best_model.score(X_test, y_test),\n",
        "        'best_params' : clf.best_params_\n",
        "    })\n",
        "    print('\\nScore is appended.\\n')\n",
        "    \n",
        "# Creating data frame with model, best scores and best params:\n",
        "res1 = pd.DataFrame(scores, columns=['model', 'best_score', 'best_params'])"
      ],
      "metadata": {
        "colab": {
          "base_uri": "https://localhost:8080/"
        },
        "id": "SrKxKOIz_iQu",
        "outputId": "ca164feb-c57a-4932-f352-045623fe4ddf"
      },
      "execution_count": 14,
      "outputs": [
        {
          "output_type": "stream",
          "name": "stdout",
          "text": [
            "SVC()\n",
            "\n",
            "Training the model...\n",
            "Fitting 5 folds for each of 36 candidates, totalling 180 fits\n",
            "[[735 108]\n",
            " [185 473]]\n",
            "              precision    recall  f1-score   support\n",
            "\n",
            "           0       0.80      0.87      0.83       843\n",
            "           1       0.81      0.72      0.76       658\n",
            "\n",
            "    accuracy                           0.80      1501\n",
            "   macro avg       0.81      0.80      0.80      1501\n",
            "weighted avg       0.81      0.80      0.80      1501\n",
            "\n",
            "\n",
            "Score is appended.\n",
            "\n",
            "MultinomialNB()\n",
            "\n",
            "Training the model...\n",
            "Fitting 5 folds for each of 12 candidates, totalling 60 fits\n",
            "[[778  65]\n",
            " [237 421]]\n",
            "              precision    recall  f1-score   support\n",
            "\n",
            "           0       0.77      0.92      0.84       843\n",
            "           1       0.87      0.64      0.74       658\n",
            "\n",
            "    accuracy                           0.80      1501\n",
            "   macro avg       0.82      0.78      0.79      1501\n",
            "weighted avg       0.81      0.80      0.79      1501\n",
            "\n",
            "\n",
            "Score is appended.\n",
            "\n",
            "LogisticRegression()\n",
            "\n",
            "Training the model...\n",
            "Fitting 5 folds for each of 14 candidates, totalling 70 fits\n",
            "[[708 135]\n",
            " [179 479]]\n",
            "              precision    recall  f1-score   support\n",
            "\n",
            "           0       0.80      0.84      0.82       843\n",
            "           1       0.78      0.73      0.75       658\n",
            "\n",
            "    accuracy                           0.79      1501\n",
            "   macro avg       0.79      0.78      0.79      1501\n",
            "weighted avg       0.79      0.79      0.79      1501\n",
            "\n",
            "\n",
            "Score is appended.\n",
            "\n",
            "KNeighborsClassifier()\n",
            "\n",
            "Training the model...\n",
            "Fitting 5 folds for each of 14 candidates, totalling 70 fits\n",
            "[[741 102]\n",
            " [221 437]]\n",
            "              precision    recall  f1-score   support\n",
            "\n",
            "           0       0.77      0.88      0.82       843\n",
            "           1       0.81      0.66      0.73       658\n",
            "\n",
            "    accuracy                           0.78      1501\n",
            "   macro avg       0.79      0.77      0.78      1501\n",
            "weighted avg       0.79      0.78      0.78      1501\n",
            "\n",
            "\n",
            "Score is appended.\n",
            "\n",
            "RandomForestClassifier()\n",
            "\n",
            "Training the model...\n",
            "Fitting 5 folds for each of 18 candidates, totalling 90 fits\n",
            "[[768  75]\n",
            " [255 403]]\n",
            "              precision    recall  f1-score   support\n",
            "\n",
            "           0       0.75      0.91      0.82       843\n",
            "           1       0.84      0.61      0.71       658\n",
            "\n",
            "    accuracy                           0.78      1501\n",
            "   macro avg       0.80      0.76      0.77      1501\n",
            "weighted avg       0.79      0.78      0.77      1501\n",
            "\n",
            "\n",
            "Score is appended.\n",
            "\n",
            "AdaBoostClassifier()\n",
            "\n",
            "Training the model...\n",
            "Fitting 5 folds for each of 9 candidates, totalling 45 fits\n",
            "[[686 157]\n",
            " [230 428]]\n",
            "              precision    recall  f1-score   support\n",
            "\n",
            "           0       0.75      0.81      0.78       843\n",
            "           1       0.73      0.65      0.69       658\n",
            "\n",
            "    accuracy                           0.74      1501\n",
            "   macro avg       0.74      0.73      0.73      1501\n",
            "weighted avg       0.74      0.74      0.74      1501\n",
            "\n",
            "\n",
            "Score is appended.\n",
            "\n",
            "CPU times: user 56.8 s, sys: 2.49 s, total: 59.3 s\n",
            "Wall time: 45min 34s\n"
          ]
        }
      ]
    },
    {
      "cell_type": "code",
      "source": [
        "res1"
      ],
      "metadata": {
        "id": "IjV0CDHugR_k",
        "colab": {
          "base_uri": "https://localhost:8080/",
          "height": 237
        },
        "outputId": "1a460bc8-4576-4855-fd3d-e535c6bc293b"
      },
      "execution_count": 15,
      "outputs": [
        {
          "output_type": "execute_result",
          "data": {
            "text/plain": [
              "                  model  best_score  \\\n",
              "0  SVC                   0.804797     \n",
              "1  MultinomialNB         0.798801     \n",
              "2  logistics_regression  0.790806     \n",
              "3  K_Nearest_Neighbors   0.784810     \n",
              "4  random_forest         0.780147     \n",
              "5  AdaBoost              0.742172     \n",
              "\n",
              "                                                     best_params  \n",
              "0  {'C': 1, 'gamma': 1, 'kernel': 'linear'}                       \n",
              "1  {'alpha': 0.5, 'fit_prior': True}                              \n",
              "2  {'C': 20, 'solver': 'liblinear'}                               \n",
              "3  {'n_neighbors': 50, 'weights': 'distance'}                     \n",
              "4  {'criterion': 'gini', 'max_depth': None, 'n_estimators': 100}  \n",
              "5  {'learning_rate': 0.5, 'n_estimators': 150}                    "
            ],
            "text/html": [
              "\n",
              "  <div id=\"df-fe55d2a4-9ca6-46bb-bc1f-d68267e0636a\">\n",
              "    <div class=\"colab-df-container\">\n",
              "      <div>\n",
              "<style scoped>\n",
              "    .dataframe tbody tr th:only-of-type {\n",
              "        vertical-align: middle;\n",
              "    }\n",
              "\n",
              "    .dataframe tbody tr th {\n",
              "        vertical-align: top;\n",
              "    }\n",
              "\n",
              "    .dataframe thead th {\n",
              "        text-align: right;\n",
              "    }\n",
              "</style>\n",
              "<table border=\"1\" class=\"dataframe\">\n",
              "  <thead>\n",
              "    <tr style=\"text-align: right;\">\n",
              "      <th></th>\n",
              "      <th>model</th>\n",
              "      <th>best_score</th>\n",
              "      <th>best_params</th>\n",
              "    </tr>\n",
              "  </thead>\n",
              "  <tbody>\n",
              "    <tr>\n",
              "      <th>0</th>\n",
              "      <td>SVC</td>\n",
              "      <td>0.804797</td>\n",
              "      <td>{'C': 1, 'gamma': 1, 'kernel': 'linear'}</td>\n",
              "    </tr>\n",
              "    <tr>\n",
              "      <th>1</th>\n",
              "      <td>MultinomialNB</td>\n",
              "      <td>0.798801</td>\n",
              "      <td>{'alpha': 0.5, 'fit_prior': True}</td>\n",
              "    </tr>\n",
              "    <tr>\n",
              "      <th>2</th>\n",
              "      <td>logistics_regression</td>\n",
              "      <td>0.790806</td>\n",
              "      <td>{'C': 20, 'solver': 'liblinear'}</td>\n",
              "    </tr>\n",
              "    <tr>\n",
              "      <th>3</th>\n",
              "      <td>K_Nearest_Neighbors</td>\n",
              "      <td>0.784810</td>\n",
              "      <td>{'n_neighbors': 50, 'weights': 'distance'}</td>\n",
              "    </tr>\n",
              "    <tr>\n",
              "      <th>4</th>\n",
              "      <td>random_forest</td>\n",
              "      <td>0.780147</td>\n",
              "      <td>{'criterion': 'gini', 'max_depth': None, 'n_estimators': 100}</td>\n",
              "    </tr>\n",
              "    <tr>\n",
              "      <th>5</th>\n",
              "      <td>AdaBoost</td>\n",
              "      <td>0.742172</td>\n",
              "      <td>{'learning_rate': 0.5, 'n_estimators': 150}</td>\n",
              "    </tr>\n",
              "  </tbody>\n",
              "</table>\n",
              "</div>\n",
              "      <button class=\"colab-df-convert\" onclick=\"convertToInteractive('df-fe55d2a4-9ca6-46bb-bc1f-d68267e0636a')\"\n",
              "              title=\"Convert this dataframe to an interactive table.\"\n",
              "              style=\"display:none;\">\n",
              "        \n",
              "  <svg xmlns=\"http://www.w3.org/2000/svg\" height=\"24px\"viewBox=\"0 0 24 24\"\n",
              "       width=\"24px\">\n",
              "    <path d=\"M0 0h24v24H0V0z\" fill=\"none\"/>\n",
              "    <path d=\"M18.56 5.44l.94 2.06.94-2.06 2.06-.94-2.06-.94-.94-2.06-.94 2.06-2.06.94zm-11 1L8.5 8.5l.94-2.06 2.06-.94-2.06-.94L8.5 2.5l-.94 2.06-2.06.94zm10 10l.94 2.06.94-2.06 2.06-.94-2.06-.94-.94-2.06-.94 2.06-2.06.94z\"/><path d=\"M17.41 7.96l-1.37-1.37c-.4-.4-.92-.59-1.43-.59-.52 0-1.04.2-1.43.59L10.3 9.45l-7.72 7.72c-.78.78-.78 2.05 0 2.83L4 21.41c.39.39.9.59 1.41.59.51 0 1.02-.2 1.41-.59l7.78-7.78 2.81-2.81c.8-.78.8-2.07 0-2.86zM5.41 20L4 18.59l7.72-7.72 1.47 1.35L5.41 20z\"/>\n",
              "  </svg>\n",
              "      </button>\n",
              "      \n",
              "  <style>\n",
              "    .colab-df-container {\n",
              "      display:flex;\n",
              "      flex-wrap:wrap;\n",
              "      gap: 12px;\n",
              "    }\n",
              "\n",
              "    .colab-df-convert {\n",
              "      background-color: #E8F0FE;\n",
              "      border: none;\n",
              "      border-radius: 50%;\n",
              "      cursor: pointer;\n",
              "      display: none;\n",
              "      fill: #1967D2;\n",
              "      height: 32px;\n",
              "      padding: 0 0 0 0;\n",
              "      width: 32px;\n",
              "    }\n",
              "\n",
              "    .colab-df-convert:hover {\n",
              "      background-color: #E2EBFA;\n",
              "      box-shadow: 0px 1px 2px rgba(60, 64, 67, 0.3), 0px 1px 3px 1px rgba(60, 64, 67, 0.15);\n",
              "      fill: #174EA6;\n",
              "    }\n",
              "\n",
              "    [theme=dark] .colab-df-convert {\n",
              "      background-color: #3B4455;\n",
              "      fill: #D2E3FC;\n",
              "    }\n",
              "\n",
              "    [theme=dark] .colab-df-convert:hover {\n",
              "      background-color: #434B5C;\n",
              "      box-shadow: 0px 1px 3px 1px rgba(0, 0, 0, 0.15);\n",
              "      filter: drop-shadow(0px 1px 2px rgba(0, 0, 0, 0.3));\n",
              "      fill: #FFFFFF;\n",
              "    }\n",
              "  </style>\n",
              "\n",
              "      <script>\n",
              "        const buttonEl =\n",
              "          document.querySelector('#df-fe55d2a4-9ca6-46bb-bc1f-d68267e0636a button.colab-df-convert');\n",
              "        buttonEl.style.display =\n",
              "          google.colab.kernel.accessAllowed ? 'block' : 'none';\n",
              "\n",
              "        async function convertToInteractive(key) {\n",
              "          const element = document.querySelector('#df-fe55d2a4-9ca6-46bb-bc1f-d68267e0636a');\n",
              "          const dataTable =\n",
              "            await google.colab.kernel.invokeFunction('convertToInteractive',\n",
              "                                                     [key], {});\n",
              "          if (!dataTable) return;\n",
              "\n",
              "          const docLinkHtml = 'Like what you see? Visit the ' +\n",
              "            '<a target=\"_blank\" href=https://colab.research.google.com/notebooks/data_table.ipynb>data table notebook</a>'\n",
              "            + ' to learn more about interactive tables.';\n",
              "          element.innerHTML = '';\n",
              "          dataTable['output_type'] = 'display_data';\n",
              "          await google.colab.output.renderOutput(dataTable, element);\n",
              "          const docLink = document.createElement('div');\n",
              "          docLink.innerHTML = docLinkHtml;\n",
              "          element.appendChild(docLink);\n",
              "        }\n",
              "      </script>\n",
              "    </div>\n",
              "  </div>\n",
              "  "
            ]
          },
          "metadata": {},
          "execution_count": 15
        }
      ]
    },
    {
      "cell_type": "markdown",
      "source": [
        "## Setup 2: Models after removing Stop-words:"
      ],
      "metadata": {
        "id": "NgnO3Wqk_4Cp"
      }
    },
    {
      "cell_type": "code",
      "source": [
        "# Creating a df that is copy of the train set.\n",
        "df = train.copy()"
      ],
      "metadata": {
        "id": "0g35VCsQ_671"
      },
      "execution_count": 16,
      "outputs": []
    },
    {
      "cell_type": "markdown",
      "source": [
        "### Removing Stop-words:"
      ],
      "metadata": {
        "id": "ICVtIj4sAE6n"
      }
    },
    {
      "cell_type": "code",
      "source": [
        "sw = stopwords.words('english')\n",
        "df['text'] = df['text'].apply(lambda x: ' '.join([word for word in x.split() if word not in (sw)]))"
      ],
      "metadata": {
        "id": "p6UCXs7dAF_i"
      },
      "execution_count": 17,
      "outputs": []
    },
    {
      "cell_type": "markdown",
      "source": [
        "### Splitting data into Train and Test :"
      ],
      "metadata": {
        "id": "-wVloIgxAI5t"
      }
    },
    {
      "cell_type": "code",
      "source": [
        "# Splitting data into Train and Test sets:\n",
        "X = df['text']\n",
        "y = df['target']\n",
        "X_train, X_test, y_train, y_test =  train_test_split(X, y, test_size = 0.2, random_state = 3)"
      ],
      "metadata": {
        "id": "Nbnn9MDgANU6"
      },
      "execution_count": 18,
      "outputs": []
    },
    {
      "cell_type": "markdown",
      "source": [
        "### Transforming dataset using TF-IDF Vectorizer:"
      ],
      "metadata": {
        "id": "JAbanAKmAOG0"
      }
    },
    {
      "cell_type": "code",
      "source": [
        "# Extracting features using TF-IDF (1,2) - unigrams and bigrams\n",
        "vectoriser = TfidfVectorizer(ngram_range=(1,2), max_features=500000)\n",
        "vectoriser.fit(X_train)\n",
        "print('No. of feature_words: ', len(vectoriser.get_feature_names()))\n",
        "\n",
        "# Transforming the data using TD-IDF Vectorizer\n",
        "X_train = vectoriser.transform(X_train)\n",
        "X_test  = vectoriser.transform(X_test)"
      ],
      "metadata": {
        "id": "1bD9Gta3AQml",
        "colab": {
          "base_uri": "https://localhost:8080/"
        },
        "outputId": "f657fb72-eef4-430c-c8fd-775c94c523d6"
      },
      "execution_count": 19,
      "outputs": [
        {
          "output_type": "stream",
          "name": "stdout",
          "text": [
            "No. of feature_words:  51017\n"
          ]
        }
      ]
    },
    {
      "cell_type": "markdown",
      "source": [
        "### Results:"
      ],
      "metadata": {
        "id": "WJJsCSC3AU7u"
      }
    },
    {
      "cell_type": "code",
      "source": [
        "%%time\n",
        "\n",
        "# implemented GridSearchCV for four models using a loop and a previously created dictionary\n",
        "# in the created variable 'scores', results are stored for each model such as: model, best_score and best_params.\n",
        "\n",
        "\n",
        "scores = []\n",
        "\n",
        "for model_name, mp in model_params.items():\n",
        "    clf = GridSearchCV(mp['model'], mp['params'], cv=5, n_jobs=-1, verbose=1) # Using Cross Validation of 5 and n_jobs=-1 for fast training by using all the processors\n",
        "    print(mp['model'])\n",
        "    print('\\nTraining the model...')\n",
        "    best_model = clf.fit(X_train, y_train)                      # Training the model\n",
        "    clf_pred = best_model.predict(X_test)                       # Predicting the results\n",
        "    print(confusion_matrix(y_test,clf_pred))                    # Printing Confusion Matrix\n",
        "    print(metrics.classification_report(y_test, clf_pred))      # Printing Classification Report\n",
        "    scores.append({                                             # Appending results to 'scores' list\n",
        "        'model' : model_name,\n",
        "        'best_score' : best_model.score(X_test, y_test),\n",
        "        'best_params' : clf.best_params_\n",
        "    })\n",
        "    print('\\nScore is appended.\\n')\n",
        "    \n",
        "# Creating data frame with model, best scores and best params:\n",
        "res2 = pd.DataFrame(scores, columns=['model', 'best_score', 'best_params'])"
      ],
      "metadata": {
        "id": "jDbdGSqIAV6l",
        "colab": {
          "base_uri": "https://localhost:8080/"
        },
        "outputId": "0c567b87-e3c2-40f6-e22e-33737e955b33"
      },
      "execution_count": 20,
      "outputs": [
        {
          "output_type": "stream",
          "name": "stdout",
          "text": [
            "SVC()\n",
            "\n",
            "Training the model...\n",
            "Fitting 5 folds for each of 36 candidates, totalling 180 fits\n",
            "[[728 115]\n",
            " [182 476]]\n",
            "              precision    recall  f1-score   support\n",
            "\n",
            "           0       0.80      0.86      0.83       843\n",
            "           1       0.81      0.72      0.76       658\n",
            "\n",
            "    accuracy                           0.80      1501\n",
            "   macro avg       0.80      0.79      0.80      1501\n",
            "weighted avg       0.80      0.80      0.80      1501\n",
            "\n",
            "\n",
            "Score is appended.\n",
            "\n",
            "MultinomialNB()\n",
            "\n",
            "Training the model...\n",
            "Fitting 5 folds for each of 12 candidates, totalling 60 fits\n",
            "[[767  76]\n",
            " [220 438]]\n",
            "              precision    recall  f1-score   support\n",
            "\n",
            "           0       0.78      0.91      0.84       843\n",
            "           1       0.85      0.67      0.75       658\n",
            "\n",
            "    accuracy                           0.80      1501\n",
            "   macro avg       0.81      0.79      0.79      1501\n",
            "weighted avg       0.81      0.80      0.80      1501\n",
            "\n",
            "\n",
            "Score is appended.\n",
            "\n",
            "LogisticRegression()\n",
            "\n",
            "Training the model...\n",
            "Fitting 5 folds for each of 14 candidates, totalling 70 fits\n",
            "[[703 140]\n",
            " [183 475]]\n",
            "              precision    recall  f1-score   support\n",
            "\n",
            "           0       0.79      0.83      0.81       843\n",
            "           1       0.77      0.72      0.75       658\n",
            "\n",
            "    accuracy                           0.78      1501\n",
            "   macro avg       0.78      0.78      0.78      1501\n",
            "weighted avg       0.78      0.78      0.78      1501\n",
            "\n",
            "\n",
            "Score is appended.\n",
            "\n",
            "KNeighborsClassifier()\n",
            "\n",
            "Training the model...\n",
            "Fitting 5 folds for each of 14 candidates, totalling 70 fits\n",
            "[[738 105]\n",
            " [222 436]]\n",
            "              precision    recall  f1-score   support\n",
            "\n",
            "           0       0.77      0.88      0.82       843\n",
            "           1       0.81      0.66      0.73       658\n",
            "\n",
            "    accuracy                           0.78      1501\n",
            "   macro avg       0.79      0.77      0.77      1501\n",
            "weighted avg       0.79      0.78      0.78      1501\n",
            "\n",
            "\n",
            "Score is appended.\n",
            "\n",
            "RandomForestClassifier()\n",
            "\n",
            "Training the model...\n",
            "Fitting 5 folds for each of 18 candidates, totalling 90 fits\n",
            "[[705 138]\n",
            " [219 439]]\n",
            "              precision    recall  f1-score   support\n",
            "\n",
            "           0       0.76      0.84      0.80       843\n",
            "           1       0.76      0.67      0.71       658\n",
            "\n",
            "    accuracy                           0.76      1501\n",
            "   macro avg       0.76      0.75      0.75      1501\n",
            "weighted avg       0.76      0.76      0.76      1501\n",
            "\n",
            "\n",
            "Score is appended.\n",
            "\n",
            "AdaBoostClassifier()\n",
            "\n",
            "Training the model...\n",
            "Fitting 5 folds for each of 9 candidates, totalling 45 fits\n",
            "[[747  96]\n",
            " [270 388]]\n",
            "              precision    recall  f1-score   support\n",
            "\n",
            "           0       0.73      0.89      0.80       843\n",
            "           1       0.80      0.59      0.68       658\n",
            "\n",
            "    accuracy                           0.76      1501\n",
            "   macro avg       0.77      0.74      0.74      1501\n",
            "weighted avg       0.76      0.76      0.75      1501\n",
            "\n",
            "\n",
            "Score is appended.\n",
            "\n",
            "CPU times: user 38.7 s, sys: 3.43 s, total: 42.1 s\n",
            "Wall time: 39min 31s\n"
          ]
        }
      ]
    },
    {
      "cell_type": "code",
      "source": [
        "res2"
      ],
      "metadata": {
        "id": "_DJc-HvlgXeP",
        "colab": {
          "base_uri": "https://localhost:8080/",
          "height": 237
        },
        "outputId": "4df9e1d8-96e7-4c58-dd34-8422457cf85b"
      },
      "execution_count": 21,
      "outputs": [
        {
          "output_type": "execute_result",
          "data": {
            "text/plain": [
              "                  model  best_score  \\\n",
              "0  SVC                   0.802132     \n",
              "1  MultinomialNB         0.802798     \n",
              "2  logistics_regression  0.784810     \n",
              "3  K_Nearest_Neighbors   0.782145     \n",
              "4  random_forest         0.762159     \n",
              "5  AdaBoost              0.756163     \n",
              "\n",
              "                                                    best_params  \n",
              "0  {'C': 1, 'gamma': 1, 'kernel': 'linear'}                      \n",
              "1  {'alpha': 0.5, 'fit_prior': True}                             \n",
              "2  {'C': 40, 'solver': 'lbfgs'}                                  \n",
              "3  {'n_neighbors': 100, 'weights': 'distance'}                   \n",
              "4  {'criterion': 'gini', 'max_depth': None, 'n_estimators': 50}  \n",
              "5  {'learning_rate': 0.5, 'n_estimators': 150}                   "
            ],
            "text/html": [
              "\n",
              "  <div id=\"df-1b41a0fc-9c96-4d86-af3a-d6d092dcd19c\">\n",
              "    <div class=\"colab-df-container\">\n",
              "      <div>\n",
              "<style scoped>\n",
              "    .dataframe tbody tr th:only-of-type {\n",
              "        vertical-align: middle;\n",
              "    }\n",
              "\n",
              "    .dataframe tbody tr th {\n",
              "        vertical-align: top;\n",
              "    }\n",
              "\n",
              "    .dataframe thead th {\n",
              "        text-align: right;\n",
              "    }\n",
              "</style>\n",
              "<table border=\"1\" class=\"dataframe\">\n",
              "  <thead>\n",
              "    <tr style=\"text-align: right;\">\n",
              "      <th></th>\n",
              "      <th>model</th>\n",
              "      <th>best_score</th>\n",
              "      <th>best_params</th>\n",
              "    </tr>\n",
              "  </thead>\n",
              "  <tbody>\n",
              "    <tr>\n",
              "      <th>0</th>\n",
              "      <td>SVC</td>\n",
              "      <td>0.802132</td>\n",
              "      <td>{'C': 1, 'gamma': 1, 'kernel': 'linear'}</td>\n",
              "    </tr>\n",
              "    <tr>\n",
              "      <th>1</th>\n",
              "      <td>MultinomialNB</td>\n",
              "      <td>0.802798</td>\n",
              "      <td>{'alpha': 0.5, 'fit_prior': True}</td>\n",
              "    </tr>\n",
              "    <tr>\n",
              "      <th>2</th>\n",
              "      <td>logistics_regression</td>\n",
              "      <td>0.784810</td>\n",
              "      <td>{'C': 40, 'solver': 'lbfgs'}</td>\n",
              "    </tr>\n",
              "    <tr>\n",
              "      <th>3</th>\n",
              "      <td>K_Nearest_Neighbors</td>\n",
              "      <td>0.782145</td>\n",
              "      <td>{'n_neighbors': 100, 'weights': 'distance'}</td>\n",
              "    </tr>\n",
              "    <tr>\n",
              "      <th>4</th>\n",
              "      <td>random_forest</td>\n",
              "      <td>0.762159</td>\n",
              "      <td>{'criterion': 'gini', 'max_depth': None, 'n_estimators': 50}</td>\n",
              "    </tr>\n",
              "    <tr>\n",
              "      <th>5</th>\n",
              "      <td>AdaBoost</td>\n",
              "      <td>0.756163</td>\n",
              "      <td>{'learning_rate': 0.5, 'n_estimators': 150}</td>\n",
              "    </tr>\n",
              "  </tbody>\n",
              "</table>\n",
              "</div>\n",
              "      <button class=\"colab-df-convert\" onclick=\"convertToInteractive('df-1b41a0fc-9c96-4d86-af3a-d6d092dcd19c')\"\n",
              "              title=\"Convert this dataframe to an interactive table.\"\n",
              "              style=\"display:none;\">\n",
              "        \n",
              "  <svg xmlns=\"http://www.w3.org/2000/svg\" height=\"24px\"viewBox=\"0 0 24 24\"\n",
              "       width=\"24px\">\n",
              "    <path d=\"M0 0h24v24H0V0z\" fill=\"none\"/>\n",
              "    <path d=\"M18.56 5.44l.94 2.06.94-2.06 2.06-.94-2.06-.94-.94-2.06-.94 2.06-2.06.94zm-11 1L8.5 8.5l.94-2.06 2.06-.94-2.06-.94L8.5 2.5l-.94 2.06-2.06.94zm10 10l.94 2.06.94-2.06 2.06-.94-2.06-.94-.94-2.06-.94 2.06-2.06.94z\"/><path d=\"M17.41 7.96l-1.37-1.37c-.4-.4-.92-.59-1.43-.59-.52 0-1.04.2-1.43.59L10.3 9.45l-7.72 7.72c-.78.78-.78 2.05 0 2.83L4 21.41c.39.39.9.59 1.41.59.51 0 1.02-.2 1.41-.59l7.78-7.78 2.81-2.81c.8-.78.8-2.07 0-2.86zM5.41 20L4 18.59l7.72-7.72 1.47 1.35L5.41 20z\"/>\n",
              "  </svg>\n",
              "      </button>\n",
              "      \n",
              "  <style>\n",
              "    .colab-df-container {\n",
              "      display:flex;\n",
              "      flex-wrap:wrap;\n",
              "      gap: 12px;\n",
              "    }\n",
              "\n",
              "    .colab-df-convert {\n",
              "      background-color: #E8F0FE;\n",
              "      border: none;\n",
              "      border-radius: 50%;\n",
              "      cursor: pointer;\n",
              "      display: none;\n",
              "      fill: #1967D2;\n",
              "      height: 32px;\n",
              "      padding: 0 0 0 0;\n",
              "      width: 32px;\n",
              "    }\n",
              "\n",
              "    .colab-df-convert:hover {\n",
              "      background-color: #E2EBFA;\n",
              "      box-shadow: 0px 1px 2px rgba(60, 64, 67, 0.3), 0px 1px 3px 1px rgba(60, 64, 67, 0.15);\n",
              "      fill: #174EA6;\n",
              "    }\n",
              "\n",
              "    [theme=dark] .colab-df-convert {\n",
              "      background-color: #3B4455;\n",
              "      fill: #D2E3FC;\n",
              "    }\n",
              "\n",
              "    [theme=dark] .colab-df-convert:hover {\n",
              "      background-color: #434B5C;\n",
              "      box-shadow: 0px 1px 3px 1px rgba(0, 0, 0, 0.15);\n",
              "      filter: drop-shadow(0px 1px 2px rgba(0, 0, 0, 0.3));\n",
              "      fill: #FFFFFF;\n",
              "    }\n",
              "  </style>\n",
              "\n",
              "      <script>\n",
              "        const buttonEl =\n",
              "          document.querySelector('#df-1b41a0fc-9c96-4d86-af3a-d6d092dcd19c button.colab-df-convert');\n",
              "        buttonEl.style.display =\n",
              "          google.colab.kernel.accessAllowed ? 'block' : 'none';\n",
              "\n",
              "        async function convertToInteractive(key) {\n",
              "          const element = document.querySelector('#df-1b41a0fc-9c96-4d86-af3a-d6d092dcd19c');\n",
              "          const dataTable =\n",
              "            await google.colab.kernel.invokeFunction('convertToInteractive',\n",
              "                                                     [key], {});\n",
              "          if (!dataTable) return;\n",
              "\n",
              "          const docLinkHtml = 'Like what you see? Visit the ' +\n",
              "            '<a target=\"_blank\" href=https://colab.research.google.com/notebooks/data_table.ipynb>data table notebook</a>'\n",
              "            + ' to learn more about interactive tables.';\n",
              "          element.innerHTML = '';\n",
              "          dataTable['output_type'] = 'display_data';\n",
              "          await google.colab.output.renderOutput(dataTable, element);\n",
              "          const docLink = document.createElement('div');\n",
              "          docLink.innerHTML = docLinkHtml;\n",
              "          element.appendChild(docLink);\n",
              "        }\n",
              "      </script>\n",
              "    </div>\n",
              "  </div>\n",
              "  "
            ]
          },
          "metadata": {},
          "execution_count": 21
        }
      ]
    },
    {
      "cell_type": "markdown",
      "source": [
        "## Setup 3: Models after removing numbers:"
      ],
      "metadata": {
        "id": "DfG_GhYtA-GL"
      }
    },
    {
      "cell_type": "code",
      "source": [
        "# Creating a df that is copy of the train set.\n",
        "df = train.copy()"
      ],
      "metadata": {
        "id": "gp-UoJ19BBzS"
      },
      "execution_count": 22,
      "outputs": []
    },
    {
      "cell_type": "markdown",
      "source": [
        "### Removing numbers:"
      ],
      "metadata": {
        "id": "k1rsFITkBD2Z"
      }
    },
    {
      "cell_type": "code",
      "source": [
        "def cleaning_numbers(text):\n",
        "    return re.sub('[0-9]+', '', text)\n",
        "\n",
        "df['text'] = df['text'].apply(lambda text: cleaning_numbers(text))"
      ],
      "metadata": {
        "id": "NamTDep2BGR5"
      },
      "execution_count": 23,
      "outputs": []
    },
    {
      "cell_type": "markdown",
      "source": [
        "### Splitting data into Train and Test :"
      ],
      "metadata": {
        "id": "S9yy7uBeBLKy"
      }
    },
    {
      "cell_type": "code",
      "source": [
        "# Splitting data into Train and Test sets:\n",
        "X = df['text']\n",
        "y = df['target']\n",
        "X_train, X_test, y_train, y_test =  train_test_split(X, y, test_size = 0.2, random_state = 3)"
      ],
      "metadata": {
        "id": "YMWY0qh0BIwV"
      },
      "execution_count": 24,
      "outputs": []
    },
    {
      "cell_type": "markdown",
      "source": [
        "### Transforming dataset using TF-IDF Vectorizer:"
      ],
      "metadata": {
        "id": "bjoKIY2xBdKV"
      }
    },
    {
      "cell_type": "code",
      "source": [
        "# Extracting features using TF-IDF (1,2) - unigrams and bigrams\n",
        "vectoriser = TfidfVectorizer(ngram_range=(1,2), max_features=500000)\n",
        "vectoriser.fit(X_train)\n",
        "print('No. of feature_words: ', len(vectoriser.get_feature_names()))\n",
        "\n",
        "# Transforming the data using TD-IDF Vectorizer\n",
        "X_train = vectoriser.transform(X_train)\n",
        "X_test  = vectoriser.transform(X_test)"
      ],
      "metadata": {
        "id": "cEKuY9u-Bd_w",
        "colab": {
          "base_uri": "https://localhost:8080/"
        },
        "outputId": "af00ea5d-9b40-4802-e124-ceefc84e3249"
      },
      "execution_count": 25,
      "outputs": [
        {
          "output_type": "stream",
          "name": "stdout",
          "text": [
            "No. of feature_words:  60344\n"
          ]
        }
      ]
    },
    {
      "cell_type": "markdown",
      "source": [
        "### Results:"
      ],
      "metadata": {
        "id": "1Dv7bW-HBgAX"
      }
    },
    {
      "cell_type": "code",
      "source": [
        "%%time\n",
        "\n",
        "# implemented GridSearchCV for four models using a loop and a previously created dictionary\n",
        "# in the created variable 'scores', results are stored for each model such as: model, best_score and best_params.\n",
        "\n",
        "\n",
        "scores = []\n",
        "\n",
        "for model_name, mp in model_params.items():\n",
        "    clf = GridSearchCV(mp['model'], mp['params'], cv=5, n_jobs=-1, verbose=1) # Using Cross Validation of 5 and n_jobs=-1 for fast training by using all the processors\n",
        "    print(mp['model'])\n",
        "    print('\\nTraining the model...')\n",
        "    best_model = clf.fit(X_train, y_train)                      # Training the model\n",
        "    clf_pred = best_model.predict(X_test)                       # Predicting the results\n",
        "    print(confusion_matrix(y_test,clf_pred))                    # Printing Confusion Matrix\n",
        "    print(metrics.classification_report(y_test, clf_pred))      # Printing Classification Report\n",
        "    scores.append({                                             # Appending results to 'scores' list\n",
        "        'model' : model_name,\n",
        "        'best_score' : best_model.score(X_test, y_test),\n",
        "        'best_params' : clf.best_params_\n",
        "    })\n",
        "    print('\\nScore is appended.\\n')\n",
        "    \n",
        "# Creating data frame with model, best scores and best params:\n",
        "res3 = pd.DataFrame(scores, columns=['model', 'best_score', 'best_params'])"
      ],
      "metadata": {
        "id": "H5VKp2GsBjY7",
        "colab": {
          "base_uri": "https://localhost:8080/"
        },
        "outputId": "4e2dd301-8b95-48b3-8a7b-8b390edd5070"
      },
      "execution_count": 26,
      "outputs": [
        {
          "output_type": "stream",
          "name": "stdout",
          "text": [
            "SVC()\n",
            "\n",
            "Training the model...\n",
            "Fitting 5 folds for each of 36 candidates, totalling 180 fits\n",
            "[[732 111]\n",
            " [187 471]]\n",
            "              precision    recall  f1-score   support\n",
            "\n",
            "           0       0.80      0.87      0.83       843\n",
            "           1       0.81      0.72      0.76       658\n",
            "\n",
            "    accuracy                           0.80      1501\n",
            "   macro avg       0.80      0.79      0.80      1501\n",
            "weighted avg       0.80      0.80      0.80      1501\n",
            "\n",
            "\n",
            "Score is appended.\n",
            "\n",
            "MultinomialNB()\n",
            "\n",
            "Training the model...\n",
            "Fitting 5 folds for each of 12 candidates, totalling 60 fits\n",
            "[[772  71]\n",
            " [236 422]]\n",
            "              precision    recall  f1-score   support\n",
            "\n",
            "           0       0.77      0.92      0.83       843\n",
            "           1       0.86      0.64      0.73       658\n",
            "\n",
            "    accuracy                           0.80      1501\n",
            "   macro avg       0.81      0.78      0.78      1501\n",
            "weighted avg       0.81      0.80      0.79      1501\n",
            "\n",
            "\n",
            "Score is appended.\n",
            "\n",
            "LogisticRegression()\n",
            "\n",
            "Training the model...\n",
            "Fitting 5 folds for each of 14 candidates, totalling 70 fits\n",
            "[[706 137]\n",
            " [182 476]]\n",
            "              precision    recall  f1-score   support\n",
            "\n",
            "           0       0.80      0.84      0.82       843\n",
            "           1       0.78      0.72      0.75       658\n",
            "\n",
            "    accuracy                           0.79      1501\n",
            "   macro avg       0.79      0.78      0.78      1501\n",
            "weighted avg       0.79      0.79      0.79      1501\n",
            "\n",
            "\n",
            "Score is appended.\n",
            "\n",
            "KNeighborsClassifier()\n",
            "\n",
            "Training the model...\n",
            "Fitting 5 folds for each of 14 candidates, totalling 70 fits\n",
            "[[746  97]\n",
            " [228 430]]\n",
            "              precision    recall  f1-score   support\n",
            "\n",
            "           0       0.77      0.88      0.82       843\n",
            "           1       0.82      0.65      0.73       658\n",
            "\n",
            "    accuracy                           0.78      1501\n",
            "   macro avg       0.79      0.77      0.77      1501\n",
            "weighted avg       0.79      0.78      0.78      1501\n",
            "\n",
            "\n",
            "Score is appended.\n",
            "\n",
            "RandomForestClassifier()\n",
            "\n",
            "Training the model...\n",
            "Fitting 5 folds for each of 18 candidates, totalling 90 fits\n",
            "[[760  83]\n",
            " [254 404]]\n",
            "              precision    recall  f1-score   support\n",
            "\n",
            "           0       0.75      0.90      0.82       843\n",
            "           1       0.83      0.61      0.71       658\n",
            "\n",
            "    accuracy                           0.78      1501\n",
            "   macro avg       0.79      0.76      0.76      1501\n",
            "weighted avg       0.78      0.78      0.77      1501\n",
            "\n",
            "\n",
            "Score is appended.\n",
            "\n",
            "AdaBoostClassifier()\n",
            "\n",
            "Training the model...\n",
            "Fitting 5 folds for each of 9 candidates, totalling 45 fits\n",
            "[[684 159]\n",
            " [228 430]]\n",
            "              precision    recall  f1-score   support\n",
            "\n",
            "           0       0.75      0.81      0.78       843\n",
            "           1       0.73      0.65      0.69       658\n",
            "\n",
            "    accuracy                           0.74      1501\n",
            "   macro avg       0.74      0.73      0.73      1501\n",
            "weighted avg       0.74      0.74      0.74      1501\n",
            "\n",
            "\n",
            "Score is appended.\n",
            "\n",
            "CPU times: user 46.1 s, sys: 3.82 s, total: 49.9 s\n",
            "Wall time: 44min\n"
          ]
        }
      ]
    },
    {
      "cell_type": "code",
      "source": [
        "res3"
      ],
      "metadata": {
        "id": "uwW2B02tgdPv",
        "colab": {
          "base_uri": "https://localhost:8080/",
          "height": 237
        },
        "outputId": "f3d70645-953b-40dd-9bed-55401bf89aa7"
      },
      "execution_count": 27,
      "outputs": [
        {
          "output_type": "execute_result",
          "data": {
            "text/plain": [
              "                  model  best_score  \\\n",
              "0  SVC                   0.801466     \n",
              "1  MultinomialNB         0.795470     \n",
              "2  logistics_regression  0.787475     \n",
              "3  K_Nearest_Neighbors   0.783478     \n",
              "4  random_forest         0.775483     \n",
              "5  AdaBoost              0.742172     \n",
              "\n",
              "                                                    best_params  \n",
              "0  {'C': 1, 'gamma': 1, 'kernel': 'linear'}                      \n",
              "1  {'alpha': 0.5, 'fit_prior': True}                             \n",
              "2  {'C': 40, 'solver': 'lbfgs'}                                  \n",
              "3  {'n_neighbors': 80, 'weights': 'distance'}                    \n",
              "4  {'criterion': 'gini', 'max_depth': None, 'n_estimators': 50}  \n",
              "5  {'learning_rate': 0.5, 'n_estimators': 150}                   "
            ],
            "text/html": [
              "\n",
              "  <div id=\"df-ca12fa8a-4468-4081-af2e-cba865450870\">\n",
              "    <div class=\"colab-df-container\">\n",
              "      <div>\n",
              "<style scoped>\n",
              "    .dataframe tbody tr th:only-of-type {\n",
              "        vertical-align: middle;\n",
              "    }\n",
              "\n",
              "    .dataframe tbody tr th {\n",
              "        vertical-align: top;\n",
              "    }\n",
              "\n",
              "    .dataframe thead th {\n",
              "        text-align: right;\n",
              "    }\n",
              "</style>\n",
              "<table border=\"1\" class=\"dataframe\">\n",
              "  <thead>\n",
              "    <tr style=\"text-align: right;\">\n",
              "      <th></th>\n",
              "      <th>model</th>\n",
              "      <th>best_score</th>\n",
              "      <th>best_params</th>\n",
              "    </tr>\n",
              "  </thead>\n",
              "  <tbody>\n",
              "    <tr>\n",
              "      <th>0</th>\n",
              "      <td>SVC</td>\n",
              "      <td>0.801466</td>\n",
              "      <td>{'C': 1, 'gamma': 1, 'kernel': 'linear'}</td>\n",
              "    </tr>\n",
              "    <tr>\n",
              "      <th>1</th>\n",
              "      <td>MultinomialNB</td>\n",
              "      <td>0.795470</td>\n",
              "      <td>{'alpha': 0.5, 'fit_prior': True}</td>\n",
              "    </tr>\n",
              "    <tr>\n",
              "      <th>2</th>\n",
              "      <td>logistics_regression</td>\n",
              "      <td>0.787475</td>\n",
              "      <td>{'C': 40, 'solver': 'lbfgs'}</td>\n",
              "    </tr>\n",
              "    <tr>\n",
              "      <th>3</th>\n",
              "      <td>K_Nearest_Neighbors</td>\n",
              "      <td>0.783478</td>\n",
              "      <td>{'n_neighbors': 80, 'weights': 'distance'}</td>\n",
              "    </tr>\n",
              "    <tr>\n",
              "      <th>4</th>\n",
              "      <td>random_forest</td>\n",
              "      <td>0.775483</td>\n",
              "      <td>{'criterion': 'gini', 'max_depth': None, 'n_estimators': 50}</td>\n",
              "    </tr>\n",
              "    <tr>\n",
              "      <th>5</th>\n",
              "      <td>AdaBoost</td>\n",
              "      <td>0.742172</td>\n",
              "      <td>{'learning_rate': 0.5, 'n_estimators': 150}</td>\n",
              "    </tr>\n",
              "  </tbody>\n",
              "</table>\n",
              "</div>\n",
              "      <button class=\"colab-df-convert\" onclick=\"convertToInteractive('df-ca12fa8a-4468-4081-af2e-cba865450870')\"\n",
              "              title=\"Convert this dataframe to an interactive table.\"\n",
              "              style=\"display:none;\">\n",
              "        \n",
              "  <svg xmlns=\"http://www.w3.org/2000/svg\" height=\"24px\"viewBox=\"0 0 24 24\"\n",
              "       width=\"24px\">\n",
              "    <path d=\"M0 0h24v24H0V0z\" fill=\"none\"/>\n",
              "    <path d=\"M18.56 5.44l.94 2.06.94-2.06 2.06-.94-2.06-.94-.94-2.06-.94 2.06-2.06.94zm-11 1L8.5 8.5l.94-2.06 2.06-.94-2.06-.94L8.5 2.5l-.94 2.06-2.06.94zm10 10l.94 2.06.94-2.06 2.06-.94-2.06-.94-.94-2.06-.94 2.06-2.06.94z\"/><path d=\"M17.41 7.96l-1.37-1.37c-.4-.4-.92-.59-1.43-.59-.52 0-1.04.2-1.43.59L10.3 9.45l-7.72 7.72c-.78.78-.78 2.05 0 2.83L4 21.41c.39.39.9.59 1.41.59.51 0 1.02-.2 1.41-.59l7.78-7.78 2.81-2.81c.8-.78.8-2.07 0-2.86zM5.41 20L4 18.59l7.72-7.72 1.47 1.35L5.41 20z\"/>\n",
              "  </svg>\n",
              "      </button>\n",
              "      \n",
              "  <style>\n",
              "    .colab-df-container {\n",
              "      display:flex;\n",
              "      flex-wrap:wrap;\n",
              "      gap: 12px;\n",
              "    }\n",
              "\n",
              "    .colab-df-convert {\n",
              "      background-color: #E8F0FE;\n",
              "      border: none;\n",
              "      border-radius: 50%;\n",
              "      cursor: pointer;\n",
              "      display: none;\n",
              "      fill: #1967D2;\n",
              "      height: 32px;\n",
              "      padding: 0 0 0 0;\n",
              "      width: 32px;\n",
              "    }\n",
              "\n",
              "    .colab-df-convert:hover {\n",
              "      background-color: #E2EBFA;\n",
              "      box-shadow: 0px 1px 2px rgba(60, 64, 67, 0.3), 0px 1px 3px 1px rgba(60, 64, 67, 0.15);\n",
              "      fill: #174EA6;\n",
              "    }\n",
              "\n",
              "    [theme=dark] .colab-df-convert {\n",
              "      background-color: #3B4455;\n",
              "      fill: #D2E3FC;\n",
              "    }\n",
              "\n",
              "    [theme=dark] .colab-df-convert:hover {\n",
              "      background-color: #434B5C;\n",
              "      box-shadow: 0px 1px 3px 1px rgba(0, 0, 0, 0.15);\n",
              "      filter: drop-shadow(0px 1px 2px rgba(0, 0, 0, 0.3));\n",
              "      fill: #FFFFFF;\n",
              "    }\n",
              "  </style>\n",
              "\n",
              "      <script>\n",
              "        const buttonEl =\n",
              "          document.querySelector('#df-ca12fa8a-4468-4081-af2e-cba865450870 button.colab-df-convert');\n",
              "        buttonEl.style.display =\n",
              "          google.colab.kernel.accessAllowed ? 'block' : 'none';\n",
              "\n",
              "        async function convertToInteractive(key) {\n",
              "          const element = document.querySelector('#df-ca12fa8a-4468-4081-af2e-cba865450870');\n",
              "          const dataTable =\n",
              "            await google.colab.kernel.invokeFunction('convertToInteractive',\n",
              "                                                     [key], {});\n",
              "          if (!dataTable) return;\n",
              "\n",
              "          const docLinkHtml = 'Like what you see? Visit the ' +\n",
              "            '<a target=\"_blank\" href=https://colab.research.google.com/notebooks/data_table.ipynb>data table notebook</a>'\n",
              "            + ' to learn more about interactive tables.';\n",
              "          element.innerHTML = '';\n",
              "          dataTable['output_type'] = 'display_data';\n",
              "          await google.colab.output.renderOutput(dataTable, element);\n",
              "          const docLink = document.createElement('div');\n",
              "          docLink.innerHTML = docLinkHtml;\n",
              "          element.appendChild(docLink);\n",
              "        }\n",
              "      </script>\n",
              "    </div>\n",
              "  </div>\n",
              "  "
            ]
          },
          "metadata": {},
          "execution_count": 27
        }
      ]
    },
    {
      "cell_type": "markdown",
      "source": [
        "## Setup 4: Models after removing repeating characters:"
      ],
      "metadata": {
        "id": "w39LTM3KBmIC"
      }
    },
    {
      "cell_type": "code",
      "source": [
        "# Creating a df that is copy of the train set.\n",
        "df = train.copy()"
      ],
      "metadata": {
        "id": "HD-0CIxGBpED"
      },
      "execution_count": 28,
      "outputs": []
    },
    {
      "cell_type": "markdown",
      "source": [
        "### Removing repeating characteres:"
      ],
      "metadata": {
        "id": "R_Idvd73BsAY"
      }
    },
    {
      "cell_type": "code",
      "source": [
        "tokens = (word_tokenize(i) for i in df.text)\n",
        "df['text'] = df['text'].apply(nltk.word_tokenize)\n",
        "\n",
        "pattern = re.compile(r'(.)\\1*')\n",
        "\n",
        "def reduce_sequence_word(word):\n",
        "    return ''.join([match.group()[:2] if len(match.group()) > 2 else match.group() for match in pattern.finditer(word)])\n",
        "\n",
        "def reduce_sequence_tweet(tweet):\n",
        "    return [reduce_sequence_word(word) for word in tweet]\n",
        "\n",
        "df.text = df.text.apply(lambda tweet: reduce_sequence_tweet(tweet))"
      ],
      "metadata": {
        "id": "1HqHO6JUByif"
      },
      "execution_count": 29,
      "outputs": []
    },
    {
      "cell_type": "markdown",
      "source": [
        "### Splitting data into Train and Test :"
      ],
      "metadata": {
        "id": "FXWsMqTOB1GT"
      }
    },
    {
      "cell_type": "code",
      "source": [
        "# Splitting data into Train and Test sets:\n",
        "X = df['text'].astype(str)\n",
        "y = df['target'].astype(str)\n",
        "X_train, X_test, y_train, y_test =  train_test_split(X, y, test_size = 0.2, random_state = 3)"
      ],
      "metadata": {
        "id": "3_h8B3UVB3ci"
      },
      "execution_count": 30,
      "outputs": []
    },
    {
      "cell_type": "markdown",
      "source": [
        "### Transforming dataset using TF-IDF Vectorizer:"
      ],
      "metadata": {
        "id": "sLtf92yrB_rN"
      }
    },
    {
      "cell_type": "code",
      "source": [
        "# Extracting features using TF-IDF (1,2) - unigrams and bigrams\n",
        "vectoriser = TfidfVectorizer(ngram_range=(1,2), max_features=500000)\n",
        "vectoriser.fit(X_train)\n",
        "print('No. of feature_words: ', len(vectoriser.get_feature_names()))\n",
        "\n",
        "# Transforming the data using TD-IDF Vectorizer\n",
        "X_train = vectoriser.transform(X_train)\n",
        "X_test  = vectoriser.transform(X_test)"
      ],
      "metadata": {
        "id": "8N1M163ICAn8",
        "colab": {
          "base_uri": "https://localhost:8080/"
        },
        "outputId": "1368cc19-ca29-4a4d-8471-8ef061c25d7d"
      },
      "execution_count": 31,
      "outputs": [
        {
          "output_type": "stream",
          "name": "stdout",
          "text": [
            "No. of feature_words:  62005\n"
          ]
        }
      ]
    },
    {
      "cell_type": "markdown",
      "source": [
        "### Results:"
      ],
      "metadata": {
        "id": "C3fuqmdlCD0t"
      }
    },
    {
      "cell_type": "code",
      "source": [
        "%%time\n",
        "\n",
        "# implemented GridSearchCV for four models using a loop and a previously created dictionary\n",
        "# in the created variable 'scores', results are stored for each model such as: model, best_score and best_params.\n",
        "\n",
        "\n",
        "scores = []\n",
        "\n",
        "for model_name, mp in model_params.items():\n",
        "    clf = GridSearchCV(mp['model'], mp['params'], cv=5, n_jobs=-1, verbose=1) # Using Cross Validation of 5 and n_jobs=-1 for fast training by using all the processors\n",
        "    print(mp['model'])\n",
        "    print('\\nTraining the model...')\n",
        "    best_model = clf.fit(X_train, y_train)                      # Training the model\n",
        "    clf_pred = best_model.predict(X_test)                       # Predicting the results\n",
        "    print(confusion_matrix(y_test,clf_pred))                    # Printing Confusion Matrix\n",
        "    print(metrics.classification_report(y_test, clf_pred))      # Printing Classification Report\n",
        "    scores.append({                                             # Appending results to 'scores' list\n",
        "        'model' : model_name,\n",
        "        'best_score' : best_model.score(X_test, y_test),\n",
        "        'best_params' : clf.best_params_\n",
        "    })\n",
        "    print('\\nScore is appended.\\n')\n",
        "    \n",
        "# Creating data frame with model, best scores and best params:\n",
        "res4 = pd.DataFrame(scores, columns=['model', 'best_score', 'best_params'])"
      ],
      "metadata": {
        "id": "qj1JJ8PjCDcd",
        "colab": {
          "base_uri": "https://localhost:8080/"
        },
        "outputId": "4cce885f-1ac2-4088-abb9-ec7b4cfa33ba"
      },
      "execution_count": 32,
      "outputs": [
        {
          "output_type": "stream",
          "name": "stdout",
          "text": [
            "SVC()\n",
            "\n",
            "Training the model...\n",
            "Fitting 5 folds for each of 36 candidates, totalling 180 fits\n",
            "[[732 111]\n",
            " [187 471]]\n",
            "              precision    recall  f1-score   support\n",
            "\n",
            "           0       0.80      0.87      0.83       843\n",
            "           1       0.81      0.72      0.76       658\n",
            "\n",
            "    accuracy                           0.80      1501\n",
            "   macro avg       0.80      0.79      0.80      1501\n",
            "weighted avg       0.80      0.80      0.80      1501\n",
            "\n",
            "\n",
            "Score is appended.\n",
            "\n",
            "MultinomialNB()\n",
            "\n",
            "Training the model...\n",
            "Fitting 5 folds for each of 12 candidates, totalling 60 fits\n",
            "[[779  64]\n",
            " [233 425]]\n",
            "              precision    recall  f1-score   support\n",
            "\n",
            "           0       0.77      0.92      0.84       843\n",
            "           1       0.87      0.65      0.74       658\n",
            "\n",
            "    accuracy                           0.80      1501\n",
            "   macro avg       0.82      0.78      0.79      1501\n",
            "weighted avg       0.81      0.80      0.80      1501\n",
            "\n",
            "\n",
            "Score is appended.\n",
            "\n",
            "LogisticRegression()\n",
            "\n",
            "Training the model...\n",
            "Fitting 5 folds for each of 14 candidates, totalling 70 fits\n",
            "[[702 141]\n",
            " [172 486]]\n",
            "              precision    recall  f1-score   support\n",
            "\n",
            "           0       0.80      0.83      0.82       843\n",
            "           1       0.78      0.74      0.76       658\n",
            "\n",
            "    accuracy                           0.79      1501\n",
            "   macro avg       0.79      0.79      0.79      1501\n",
            "weighted avg       0.79      0.79      0.79      1501\n",
            "\n",
            "\n",
            "Score is appended.\n",
            "\n",
            "KNeighborsClassifier()\n",
            "\n",
            "Training the model...\n",
            "Fitting 5 folds for each of 14 candidates, totalling 70 fits\n",
            "[[750  93]\n",
            " [231 427]]\n",
            "              precision    recall  f1-score   support\n",
            "\n",
            "           0       0.76      0.89      0.82       843\n",
            "           1       0.82      0.65      0.72       658\n",
            "\n",
            "    accuracy                           0.78      1501\n",
            "   macro avg       0.79      0.77      0.77      1501\n",
            "weighted avg       0.79      0.78      0.78      1501\n",
            "\n",
            "\n",
            "Score is appended.\n",
            "\n",
            "RandomForestClassifier()\n",
            "\n",
            "Training the model...\n",
            "Fitting 5 folds for each of 18 candidates, totalling 90 fits\n",
            "[[755  88]\n",
            " [259 399]]\n",
            "              precision    recall  f1-score   support\n",
            "\n",
            "           0       0.74      0.90      0.81       843\n",
            "           1       0.82      0.61      0.70       658\n",
            "\n",
            "    accuracy                           0.77      1501\n",
            "   macro avg       0.78      0.75      0.76      1501\n",
            "weighted avg       0.78      0.77      0.76      1501\n",
            "\n",
            "\n",
            "Score is appended.\n",
            "\n",
            "AdaBoostClassifier()\n",
            "\n",
            "Training the model...\n",
            "Fitting 5 folds for each of 9 candidates, totalling 45 fits\n",
            "[[691 152]\n",
            " [231 427]]\n",
            "              precision    recall  f1-score   support\n",
            "\n",
            "           0       0.75      0.82      0.78       843\n",
            "           1       0.74      0.65      0.69       658\n",
            "\n",
            "    accuracy                           0.74      1501\n",
            "   macro avg       0.74      0.73      0.74      1501\n",
            "weighted avg       0.74      0.74      0.74      1501\n",
            "\n",
            "\n",
            "Score is appended.\n",
            "\n",
            "CPU times: user 1min 14s, sys: 4.19 s, total: 1min 18s\n",
            "Wall time: 46min 15s\n"
          ]
        }
      ]
    },
    {
      "cell_type": "code",
      "source": [
        "res4"
      ],
      "metadata": {
        "id": "gD_EUBNfgihA",
        "colab": {
          "base_uri": "https://localhost:8080/",
          "height": 237
        },
        "outputId": "abdeddf4-298e-417e-bf4c-43c614c85448"
      },
      "execution_count": 33,
      "outputs": [
        {
          "output_type": "execute_result",
          "data": {
            "text/plain": [
              "                  model  best_score  \\\n",
              "0  SVC                   0.801466     \n",
              "1  MultinomialNB         0.802132     \n",
              "2  logistics_regression  0.791472     \n",
              "3  K_Nearest_Neighbors   0.784144     \n",
              "4  random_forest         0.768821     \n",
              "5  AdaBoost              0.744837     \n",
              "\n",
              "                                                        best_params  \n",
              "0  {'C': 1, 'gamma': 1, 'kernel': 'linear'}                          \n",
              "1  {'alpha': 0.5, 'fit_prior': True}                                 \n",
              "2  {'C': 80, 'solver': 'lbfgs'}                                      \n",
              "3  {'n_neighbors': 80, 'weights': 'distance'}                        \n",
              "4  {'criterion': 'entropy', 'max_depth': None, 'n_estimators': 150}  \n",
              "5  {'learning_rate': 0.5, 'n_estimators': 150}                       "
            ],
            "text/html": [
              "\n",
              "  <div id=\"df-450ed507-20d2-4b4b-8ce6-6b0d34ea6543\">\n",
              "    <div class=\"colab-df-container\">\n",
              "      <div>\n",
              "<style scoped>\n",
              "    .dataframe tbody tr th:only-of-type {\n",
              "        vertical-align: middle;\n",
              "    }\n",
              "\n",
              "    .dataframe tbody tr th {\n",
              "        vertical-align: top;\n",
              "    }\n",
              "\n",
              "    .dataframe thead th {\n",
              "        text-align: right;\n",
              "    }\n",
              "</style>\n",
              "<table border=\"1\" class=\"dataframe\">\n",
              "  <thead>\n",
              "    <tr style=\"text-align: right;\">\n",
              "      <th></th>\n",
              "      <th>model</th>\n",
              "      <th>best_score</th>\n",
              "      <th>best_params</th>\n",
              "    </tr>\n",
              "  </thead>\n",
              "  <tbody>\n",
              "    <tr>\n",
              "      <th>0</th>\n",
              "      <td>SVC</td>\n",
              "      <td>0.801466</td>\n",
              "      <td>{'C': 1, 'gamma': 1, 'kernel': 'linear'}</td>\n",
              "    </tr>\n",
              "    <tr>\n",
              "      <th>1</th>\n",
              "      <td>MultinomialNB</td>\n",
              "      <td>0.802132</td>\n",
              "      <td>{'alpha': 0.5, 'fit_prior': True}</td>\n",
              "    </tr>\n",
              "    <tr>\n",
              "      <th>2</th>\n",
              "      <td>logistics_regression</td>\n",
              "      <td>0.791472</td>\n",
              "      <td>{'C': 80, 'solver': 'lbfgs'}</td>\n",
              "    </tr>\n",
              "    <tr>\n",
              "      <th>3</th>\n",
              "      <td>K_Nearest_Neighbors</td>\n",
              "      <td>0.784144</td>\n",
              "      <td>{'n_neighbors': 80, 'weights': 'distance'}</td>\n",
              "    </tr>\n",
              "    <tr>\n",
              "      <th>4</th>\n",
              "      <td>random_forest</td>\n",
              "      <td>0.768821</td>\n",
              "      <td>{'criterion': 'entropy', 'max_depth': None, 'n_estimators': 150}</td>\n",
              "    </tr>\n",
              "    <tr>\n",
              "      <th>5</th>\n",
              "      <td>AdaBoost</td>\n",
              "      <td>0.744837</td>\n",
              "      <td>{'learning_rate': 0.5, 'n_estimators': 150}</td>\n",
              "    </tr>\n",
              "  </tbody>\n",
              "</table>\n",
              "</div>\n",
              "      <button class=\"colab-df-convert\" onclick=\"convertToInteractive('df-450ed507-20d2-4b4b-8ce6-6b0d34ea6543')\"\n",
              "              title=\"Convert this dataframe to an interactive table.\"\n",
              "              style=\"display:none;\">\n",
              "        \n",
              "  <svg xmlns=\"http://www.w3.org/2000/svg\" height=\"24px\"viewBox=\"0 0 24 24\"\n",
              "       width=\"24px\">\n",
              "    <path d=\"M0 0h24v24H0V0z\" fill=\"none\"/>\n",
              "    <path d=\"M18.56 5.44l.94 2.06.94-2.06 2.06-.94-2.06-.94-.94-2.06-.94 2.06-2.06.94zm-11 1L8.5 8.5l.94-2.06 2.06-.94-2.06-.94L8.5 2.5l-.94 2.06-2.06.94zm10 10l.94 2.06.94-2.06 2.06-.94-2.06-.94-.94-2.06-.94 2.06-2.06.94z\"/><path d=\"M17.41 7.96l-1.37-1.37c-.4-.4-.92-.59-1.43-.59-.52 0-1.04.2-1.43.59L10.3 9.45l-7.72 7.72c-.78.78-.78 2.05 0 2.83L4 21.41c.39.39.9.59 1.41.59.51 0 1.02-.2 1.41-.59l7.78-7.78 2.81-2.81c.8-.78.8-2.07 0-2.86zM5.41 20L4 18.59l7.72-7.72 1.47 1.35L5.41 20z\"/>\n",
              "  </svg>\n",
              "      </button>\n",
              "      \n",
              "  <style>\n",
              "    .colab-df-container {\n",
              "      display:flex;\n",
              "      flex-wrap:wrap;\n",
              "      gap: 12px;\n",
              "    }\n",
              "\n",
              "    .colab-df-convert {\n",
              "      background-color: #E8F0FE;\n",
              "      border: none;\n",
              "      border-radius: 50%;\n",
              "      cursor: pointer;\n",
              "      display: none;\n",
              "      fill: #1967D2;\n",
              "      height: 32px;\n",
              "      padding: 0 0 0 0;\n",
              "      width: 32px;\n",
              "    }\n",
              "\n",
              "    .colab-df-convert:hover {\n",
              "      background-color: #E2EBFA;\n",
              "      box-shadow: 0px 1px 2px rgba(60, 64, 67, 0.3), 0px 1px 3px 1px rgba(60, 64, 67, 0.15);\n",
              "      fill: #174EA6;\n",
              "    }\n",
              "\n",
              "    [theme=dark] .colab-df-convert {\n",
              "      background-color: #3B4455;\n",
              "      fill: #D2E3FC;\n",
              "    }\n",
              "\n",
              "    [theme=dark] .colab-df-convert:hover {\n",
              "      background-color: #434B5C;\n",
              "      box-shadow: 0px 1px 3px 1px rgba(0, 0, 0, 0.15);\n",
              "      filter: drop-shadow(0px 1px 2px rgba(0, 0, 0, 0.3));\n",
              "      fill: #FFFFFF;\n",
              "    }\n",
              "  </style>\n",
              "\n",
              "      <script>\n",
              "        const buttonEl =\n",
              "          document.querySelector('#df-450ed507-20d2-4b4b-8ce6-6b0d34ea6543 button.colab-df-convert');\n",
              "        buttonEl.style.display =\n",
              "          google.colab.kernel.accessAllowed ? 'block' : 'none';\n",
              "\n",
              "        async function convertToInteractive(key) {\n",
              "          const element = document.querySelector('#df-450ed507-20d2-4b4b-8ce6-6b0d34ea6543');\n",
              "          const dataTable =\n",
              "            await google.colab.kernel.invokeFunction('convertToInteractive',\n",
              "                                                     [key], {});\n",
              "          if (!dataTable) return;\n",
              "\n",
              "          const docLinkHtml = 'Like what you see? Visit the ' +\n",
              "            '<a target=\"_blank\" href=https://colab.research.google.com/notebooks/data_table.ipynb>data table notebook</a>'\n",
              "            + ' to learn more about interactive tables.';\n",
              "          element.innerHTML = '';\n",
              "          dataTable['output_type'] = 'display_data';\n",
              "          await google.colab.output.renderOutput(dataTable, element);\n",
              "          const docLink = document.createElement('div');\n",
              "          docLink.innerHTML = docLinkHtml;\n",
              "          element.appendChild(docLink);\n",
              "        }\n",
              "      </script>\n",
              "    </div>\n",
              "  </div>\n",
              "  "
            ]
          },
          "metadata": {},
          "execution_count": 33
        }
      ]
    },
    {
      "cell_type": "markdown",
      "source": [
        "## Setup 5: Applying Stemming and Lemmatization:"
      ],
      "metadata": {
        "id": "CImymbfICT56"
      }
    },
    {
      "cell_type": "code",
      "source": [
        "# Creating a df that is copy of the train set.\n",
        "df = train.copy()"
      ],
      "metadata": {
        "id": "D17LxnOHCWIv"
      },
      "execution_count": 34,
      "outputs": []
    },
    {
      "cell_type": "markdown",
      "source": [
        "### Applying Stemming: "
      ],
      "metadata": {
        "id": "9-QLyoBaCh35"
      }
    },
    {
      "cell_type": "code",
      "source": [
        "# Tokenizing tweets:\n",
        "tokens = (word_tokenize(i) for i in df.text)\n",
        "df['text'] = df['text'].apply(nltk.word_tokenize)\n",
        "\n",
        "stemm = SnowballStemmer('english')\n",
        "df['text'] = df['text'].apply(lambda x: [stemm.stem(y) for y in x])"
      ],
      "metadata": {
        "id": "sHsTt7rBCiwc"
      },
      "execution_count": 35,
      "outputs": []
    },
    {
      "cell_type": "markdown",
      "source": [
        "### Splitting data into Train and Test :"
      ],
      "metadata": {
        "id": "QVCRyReGCktR"
      }
    },
    {
      "cell_type": "code",
      "source": [
        "# Splitting data into Train and Test sets:\n",
        "X = df['text'].astype(str)\n",
        "y = df['target'].astype(str)\n",
        "X_train, X_test, y_train, y_test =  train_test_split(X, y, test_size = 0.2, random_state = 3)"
      ],
      "metadata": {
        "id": "jzsCs7W_CnKQ"
      },
      "execution_count": 36,
      "outputs": []
    },
    {
      "cell_type": "markdown",
      "source": [
        "### Transforming dataset using TF-IDF Vectorizer:"
      ],
      "metadata": {
        "id": "5Y7M0S9nCpVe"
      }
    },
    {
      "cell_type": "code",
      "source": [
        "# Extracting features using TF-IDF (1,2) - unigrams and bigrams\n",
        "vectoriser = TfidfVectorizer(ngram_range=(1,2), max_features=500000)\n",
        "vectoriser.fit(X_train)\n",
        "print('No. of feature_words: ', len(vectoriser.get_feature_names()))\n",
        "\n",
        "# Transforming the data using TD-IDF Vectorizer\n",
        "X_train = vectoriser.transform(X_train)\n",
        "X_test  = vectoriser.transform(X_test)"
      ],
      "metadata": {
        "id": "lDVetNezCrep",
        "colab": {
          "base_uri": "https://localhost:8080/"
        },
        "outputId": "e7458e8a-02f7-4106-888d-27398ea23a64"
      },
      "execution_count": 37,
      "outputs": [
        {
          "output_type": "stream",
          "name": "stdout",
          "text": [
            "No. of feature_words:  57871\n"
          ]
        }
      ]
    },
    {
      "cell_type": "markdown",
      "source": [
        "### Results:"
      ],
      "metadata": {
        "id": "kVWIYXItCwYl"
      }
    },
    {
      "cell_type": "code",
      "source": [
        "%%time\n",
        "\n",
        "# implemented GridSearchCV for four models using a loop and a previously created dictionary\n",
        "# in the created variable 'scores', results are stored for each model such as: model, best_score and best_params.\n",
        "\n",
        "\n",
        "scores = []\n",
        "\n",
        "for model_name, mp in model_params.items():\n",
        "    clf = GridSearchCV(mp['model'], mp['params'], cv=5, n_jobs=-1, verbose=1) # Using Cross Validation of 5 and n_jobs=-1 for fast training by using all the processors\n",
        "    print(mp['model'])\n",
        "    print('\\nTraining the model...')\n",
        "    best_model = clf.fit(X_train, y_train)                      # Training the model\n",
        "    clf_pred = best_model.predict(X_test)                       # Predicting the results\n",
        "    print(confusion_matrix(y_test,clf_pred))                    # Printing Confusion Matrix\n",
        "    print(metrics.classification_report(y_test, clf_pred))      # Printing Classification Report\n",
        "    scores.append({                                             # Appending results to 'scores' list\n",
        "        'model' : model_name,\n",
        "        'best_score' : best_model.score(X_test, y_test),\n",
        "        'best_params' : clf.best_params_\n",
        "    })\n",
        "    print('\\nScore is appended.\\n')\n",
        "    \n",
        "# Creating data frame with model, best scores and best params:\n",
        "res5 = pd.DataFrame(scores, columns=['model', 'best_score', 'best_params'])"
      ],
      "metadata": {
        "id": "W3was9M5Ct-D",
        "colab": {
          "base_uri": "https://localhost:8080/"
        },
        "outputId": "e5f44c61-a1ad-47cd-855c-b308d8f7ef33"
      },
      "execution_count": 38,
      "outputs": [
        {
          "output_type": "stream",
          "name": "stdout",
          "text": [
            "SVC()\n",
            "\n",
            "Training the model...\n",
            "Fitting 5 folds for each of 36 candidates, totalling 180 fits\n",
            "[[709 134]\n",
            " [184 474]]\n",
            "              precision    recall  f1-score   support\n",
            "\n",
            "           0       0.79      0.84      0.82       843\n",
            "           1       0.78      0.72      0.75       658\n",
            "\n",
            "    accuracy                           0.79      1501\n",
            "   macro avg       0.79      0.78      0.78      1501\n",
            "weighted avg       0.79      0.79      0.79      1501\n",
            "\n",
            "\n",
            "Score is appended.\n",
            "\n",
            "MultinomialNB()\n",
            "\n",
            "Training the model...\n",
            "Fitting 5 folds for each of 12 candidates, totalling 60 fits\n",
            "[[774  69]\n",
            " [232 426]]\n",
            "              precision    recall  f1-score   support\n",
            "\n",
            "           0       0.77      0.92      0.84       843\n",
            "           1       0.86      0.65      0.74       658\n",
            "\n",
            "    accuracy                           0.80      1501\n",
            "   macro avg       0.81      0.78      0.79      1501\n",
            "weighted avg       0.81      0.80      0.79      1501\n",
            "\n",
            "\n",
            "Score is appended.\n",
            "\n",
            "LogisticRegression()\n",
            "\n",
            "Training the model...\n",
            "Fitting 5 folds for each of 14 candidates, totalling 70 fits\n",
            "[[695 148]\n",
            " [178 480]]\n",
            "              precision    recall  f1-score   support\n",
            "\n",
            "           0       0.80      0.82      0.81       843\n",
            "           1       0.76      0.73      0.75       658\n",
            "\n",
            "    accuracy                           0.78      1501\n",
            "   macro avg       0.78      0.78      0.78      1501\n",
            "weighted avg       0.78      0.78      0.78      1501\n",
            "\n",
            "\n",
            "Score is appended.\n",
            "\n",
            "KNeighborsClassifier()\n",
            "\n",
            "Training the model...\n",
            "Fitting 5 folds for each of 14 candidates, totalling 70 fits\n",
            "[[745  98]\n",
            " [217 441]]\n",
            "              precision    recall  f1-score   support\n",
            "\n",
            "           0       0.77      0.88      0.83       843\n",
            "           1       0.82      0.67      0.74       658\n",
            "\n",
            "    accuracy                           0.79      1501\n",
            "   macro avg       0.80      0.78      0.78      1501\n",
            "weighted avg       0.79      0.79      0.79      1501\n",
            "\n",
            "\n",
            "Score is appended.\n",
            "\n",
            "RandomForestClassifier()\n",
            "\n",
            "Training the model...\n",
            "Fitting 5 folds for each of 18 candidates, totalling 90 fits\n",
            "[[752  91]\n",
            " [247 411]]\n",
            "              precision    recall  f1-score   support\n",
            "\n",
            "           0       0.75      0.89      0.82       843\n",
            "           1       0.82      0.62      0.71       658\n",
            "\n",
            "    accuracy                           0.77      1501\n",
            "   macro avg       0.79      0.76      0.76      1501\n",
            "weighted avg       0.78      0.77      0.77      1501\n",
            "\n",
            "\n",
            "Score is appended.\n",
            "\n",
            "AdaBoostClassifier()\n",
            "\n",
            "Training the model...\n",
            "Fitting 5 folds for each of 9 candidates, totalling 45 fits\n",
            "[[708 135]\n",
            " [233 425]]\n",
            "              precision    recall  f1-score   support\n",
            "\n",
            "           0       0.75      0.84      0.79       843\n",
            "           1       0.76      0.65      0.70       658\n",
            "\n",
            "    accuracy                           0.75      1501\n",
            "   macro avg       0.76      0.74      0.75      1501\n",
            "weighted avg       0.76      0.75      0.75      1501\n",
            "\n",
            "\n",
            "Score is appended.\n",
            "\n",
            "CPU times: user 1min 11s, sys: 3.68 s, total: 1min 14s\n",
            "Wall time: 45min\n"
          ]
        }
      ]
    },
    {
      "cell_type": "code",
      "source": [
        "res5"
      ],
      "metadata": {
        "id": "6EitYlQVgm0J",
        "colab": {
          "base_uri": "https://localhost:8080/",
          "height": 237
        },
        "outputId": "40c6e2bd-33be-487c-cf89-eb7b6faf87ba"
      },
      "execution_count": 39,
      "outputs": [
        {
          "output_type": "execute_result",
          "data": {
            "text/plain": [
              "                  model  best_score  \\\n",
              "0  SVC                   0.788141     \n",
              "1  MultinomialNB         0.799467     \n",
              "2  logistics_regression  0.782811     \n",
              "3  K_Nearest_Neighbors   0.790140     \n",
              "4  random_forest         0.774817     \n",
              "5  AdaBoost              0.754830     \n",
              "\n",
              "                                                     best_params  \n",
              "0  {'C': 10, 'gamma': 0.1, 'kernel': 'sigmoid'}                   \n",
              "1  {'alpha': 0.5, 'fit_prior': True}                              \n",
              "2  {'C': 20, 'solver': 'lbfgs'}                                   \n",
              "3  {'n_neighbors': 80, 'weights': 'distance'}                     \n",
              "4  {'criterion': 'gini', 'max_depth': None, 'n_estimators': 150}  \n",
              "5  {'learning_rate': 0.5, 'n_estimators': 150}                    "
            ],
            "text/html": [
              "\n",
              "  <div id=\"df-a49b8caa-9689-4b50-9ef1-8facd7f80af7\">\n",
              "    <div class=\"colab-df-container\">\n",
              "      <div>\n",
              "<style scoped>\n",
              "    .dataframe tbody tr th:only-of-type {\n",
              "        vertical-align: middle;\n",
              "    }\n",
              "\n",
              "    .dataframe tbody tr th {\n",
              "        vertical-align: top;\n",
              "    }\n",
              "\n",
              "    .dataframe thead th {\n",
              "        text-align: right;\n",
              "    }\n",
              "</style>\n",
              "<table border=\"1\" class=\"dataframe\">\n",
              "  <thead>\n",
              "    <tr style=\"text-align: right;\">\n",
              "      <th></th>\n",
              "      <th>model</th>\n",
              "      <th>best_score</th>\n",
              "      <th>best_params</th>\n",
              "    </tr>\n",
              "  </thead>\n",
              "  <tbody>\n",
              "    <tr>\n",
              "      <th>0</th>\n",
              "      <td>SVC</td>\n",
              "      <td>0.788141</td>\n",
              "      <td>{'C': 10, 'gamma': 0.1, 'kernel': 'sigmoid'}</td>\n",
              "    </tr>\n",
              "    <tr>\n",
              "      <th>1</th>\n",
              "      <td>MultinomialNB</td>\n",
              "      <td>0.799467</td>\n",
              "      <td>{'alpha': 0.5, 'fit_prior': True}</td>\n",
              "    </tr>\n",
              "    <tr>\n",
              "      <th>2</th>\n",
              "      <td>logistics_regression</td>\n",
              "      <td>0.782811</td>\n",
              "      <td>{'C': 20, 'solver': 'lbfgs'}</td>\n",
              "    </tr>\n",
              "    <tr>\n",
              "      <th>3</th>\n",
              "      <td>K_Nearest_Neighbors</td>\n",
              "      <td>0.790140</td>\n",
              "      <td>{'n_neighbors': 80, 'weights': 'distance'}</td>\n",
              "    </tr>\n",
              "    <tr>\n",
              "      <th>4</th>\n",
              "      <td>random_forest</td>\n",
              "      <td>0.774817</td>\n",
              "      <td>{'criterion': 'gini', 'max_depth': None, 'n_estimators': 150}</td>\n",
              "    </tr>\n",
              "    <tr>\n",
              "      <th>5</th>\n",
              "      <td>AdaBoost</td>\n",
              "      <td>0.754830</td>\n",
              "      <td>{'learning_rate': 0.5, 'n_estimators': 150}</td>\n",
              "    </tr>\n",
              "  </tbody>\n",
              "</table>\n",
              "</div>\n",
              "      <button class=\"colab-df-convert\" onclick=\"convertToInteractive('df-a49b8caa-9689-4b50-9ef1-8facd7f80af7')\"\n",
              "              title=\"Convert this dataframe to an interactive table.\"\n",
              "              style=\"display:none;\">\n",
              "        \n",
              "  <svg xmlns=\"http://www.w3.org/2000/svg\" height=\"24px\"viewBox=\"0 0 24 24\"\n",
              "       width=\"24px\">\n",
              "    <path d=\"M0 0h24v24H0V0z\" fill=\"none\"/>\n",
              "    <path d=\"M18.56 5.44l.94 2.06.94-2.06 2.06-.94-2.06-.94-.94-2.06-.94 2.06-2.06.94zm-11 1L8.5 8.5l.94-2.06 2.06-.94-2.06-.94L8.5 2.5l-.94 2.06-2.06.94zm10 10l.94 2.06.94-2.06 2.06-.94-2.06-.94-.94-2.06-.94 2.06-2.06.94z\"/><path d=\"M17.41 7.96l-1.37-1.37c-.4-.4-.92-.59-1.43-.59-.52 0-1.04.2-1.43.59L10.3 9.45l-7.72 7.72c-.78.78-.78 2.05 0 2.83L4 21.41c.39.39.9.59 1.41.59.51 0 1.02-.2 1.41-.59l7.78-7.78 2.81-2.81c.8-.78.8-2.07 0-2.86zM5.41 20L4 18.59l7.72-7.72 1.47 1.35L5.41 20z\"/>\n",
              "  </svg>\n",
              "      </button>\n",
              "      \n",
              "  <style>\n",
              "    .colab-df-container {\n",
              "      display:flex;\n",
              "      flex-wrap:wrap;\n",
              "      gap: 12px;\n",
              "    }\n",
              "\n",
              "    .colab-df-convert {\n",
              "      background-color: #E8F0FE;\n",
              "      border: none;\n",
              "      border-radius: 50%;\n",
              "      cursor: pointer;\n",
              "      display: none;\n",
              "      fill: #1967D2;\n",
              "      height: 32px;\n",
              "      padding: 0 0 0 0;\n",
              "      width: 32px;\n",
              "    }\n",
              "\n",
              "    .colab-df-convert:hover {\n",
              "      background-color: #E2EBFA;\n",
              "      box-shadow: 0px 1px 2px rgba(60, 64, 67, 0.3), 0px 1px 3px 1px rgba(60, 64, 67, 0.15);\n",
              "      fill: #174EA6;\n",
              "    }\n",
              "\n",
              "    [theme=dark] .colab-df-convert {\n",
              "      background-color: #3B4455;\n",
              "      fill: #D2E3FC;\n",
              "    }\n",
              "\n",
              "    [theme=dark] .colab-df-convert:hover {\n",
              "      background-color: #434B5C;\n",
              "      box-shadow: 0px 1px 3px 1px rgba(0, 0, 0, 0.15);\n",
              "      filter: drop-shadow(0px 1px 2px rgba(0, 0, 0, 0.3));\n",
              "      fill: #FFFFFF;\n",
              "    }\n",
              "  </style>\n",
              "\n",
              "      <script>\n",
              "        const buttonEl =\n",
              "          document.querySelector('#df-a49b8caa-9689-4b50-9ef1-8facd7f80af7 button.colab-df-convert');\n",
              "        buttonEl.style.display =\n",
              "          google.colab.kernel.accessAllowed ? 'block' : 'none';\n",
              "\n",
              "        async function convertToInteractive(key) {\n",
              "          const element = document.querySelector('#df-a49b8caa-9689-4b50-9ef1-8facd7f80af7');\n",
              "          const dataTable =\n",
              "            await google.colab.kernel.invokeFunction('convertToInteractive',\n",
              "                                                     [key], {});\n",
              "          if (!dataTable) return;\n",
              "\n",
              "          const docLinkHtml = 'Like what you see? Visit the ' +\n",
              "            '<a target=\"_blank\" href=https://colab.research.google.com/notebooks/data_table.ipynb>data table notebook</a>'\n",
              "            + ' to learn more about interactive tables.';\n",
              "          element.innerHTML = '';\n",
              "          dataTable['output_type'] = 'display_data';\n",
              "          await google.colab.output.renderOutput(dataTable, element);\n",
              "          const docLink = document.createElement('div');\n",
              "          docLink.innerHTML = docLinkHtml;\n",
              "          element.appendChild(docLink);\n",
              "        }\n",
              "      </script>\n",
              "    </div>\n",
              "  </div>\n",
              "  "
            ]
          },
          "metadata": {},
          "execution_count": 39
        }
      ]
    },
    {
      "cell_type": "markdown",
      "source": [
        "## Setup 6: Models after removing all the features:"
      ],
      "metadata": {
        "id": "ENg5hJAcCzec"
      }
    },
    {
      "cell_type": "code",
      "source": [
        "# Creating a df that is copy of the train set.\n",
        "df = train.copy()"
      ],
      "metadata": {
        "id": "-yRcUr7lC19A"
      },
      "execution_count": 40,
      "outputs": []
    },
    {
      "cell_type": "markdown",
      "source": [
        "### Removing Punctuation:"
      ],
      "metadata": {
        "id": "h2zVjpUBC3-e"
      }
    },
    {
      "cell_type": "code",
      "source": [
        "import string\n",
        "string.punctuation\n",
        "\n",
        "punctuations_list = string.punctuation\n",
        "def cleaning_punctuations(text):\n",
        "    translator = str.maketrans('', '', punctuations_list)\n",
        "    return text.translate(translator)\n",
        "\n",
        "df['text'] = df['text'].apply(lambda x: cleaning_punctuations(x))"
      ],
      "metadata": {
        "id": "IWCb4K2gC6jw"
      },
      "execution_count": 41,
      "outputs": []
    },
    {
      "cell_type": "markdown",
      "source": [
        "### Removing Stop-words: "
      ],
      "metadata": {
        "id": "tuWiYQzJC8rD"
      }
    },
    {
      "cell_type": "code",
      "source": [
        "sw = stopwords.words('english')\n",
        "df['text'] = df['text'].apply(lambda x: ' '.join([word for word in x.split() if word not in (sw)]))"
      ],
      "metadata": {
        "id": "1cKVF7nhDBZH"
      },
      "execution_count": 42,
      "outputs": []
    },
    {
      "cell_type": "markdown",
      "source": [
        "### Removing Numbers:"
      ],
      "metadata": {
        "id": "hierBz9mDHOX"
      }
    },
    {
      "cell_type": "code",
      "source": [
        "def cleaning_numbers(text):\n",
        "    return re.sub('[0-9]+', '', text)\n",
        "\n",
        "df['text'] = df['text'].apply(lambda text: cleaning_numbers(text))"
      ],
      "metadata": {
        "id": "3HJaPkiiDE6X"
      },
      "execution_count": 43,
      "outputs": []
    },
    {
      "cell_type": "markdown",
      "source": [
        "### Removing repeating characters:"
      ],
      "metadata": {
        "id": "OECCy28KDKql"
      }
    },
    {
      "cell_type": "code",
      "source": [
        "tokens = (word_tokenize(i) for i in df.text)\n",
        "df['text'] = df['text'].apply(nltk.word_tokenize)\n",
        "\n",
        "pattern = re.compile(r'(.)\\1*')\n",
        "\n",
        "def reduce_sequence_word(word):\n",
        "    return ''.join([match.group()[:2] if len(match.group()) > 2 else match.group() for match in pattern.finditer(word)])\n",
        "\n",
        "def reduce_sequence_tweet(tweet):\n",
        "    return [reduce_sequence_word(word) for word in tweet]\n",
        "\n",
        "df.text = df.text.apply(lambda tweet: reduce_sequence_tweet(tweet))"
      ],
      "metadata": {
        "id": "2QcBH4w8DP1q"
      },
      "execution_count": 44,
      "outputs": []
    },
    {
      "cell_type": "markdown",
      "source": [
        "### Applying Stemming and Lemmatization:"
      ],
      "metadata": {
        "id": "3QeLkNjDDSCa"
      }
    },
    {
      "cell_type": "code",
      "source": [
        "stemm = SnowballStemmer('english')\n",
        "df['text'] = df['text'].apply(lambda x: [stemm.stem(y) for y in x])"
      ],
      "metadata": {
        "id": "FRQ58PlYDUST"
      },
      "execution_count": 45,
      "outputs": []
    },
    {
      "cell_type": "markdown",
      "source": [
        "### Splitting data into Train and Test :"
      ],
      "metadata": {
        "id": "1xwRz9BcDWH4"
      }
    },
    {
      "cell_type": "code",
      "source": [
        "# Splitting data into Train and Test sets:\n",
        "X = df['text'].astype(str)\n",
        "y = df['target'].astype(str)\n",
        "X_train, X_test, y_train, y_test =  train_test_split(X, y, test_size = 0.2, random_state = 3)"
      ],
      "metadata": {
        "id": "968n8OBmDYpy"
      },
      "execution_count": 46,
      "outputs": []
    },
    {
      "cell_type": "markdown",
      "source": [
        "### Transforming dataset using TF-IDF Vectorizer:"
      ],
      "metadata": {
        "id": "GqAKdnj_DdM6"
      }
    },
    {
      "cell_type": "code",
      "source": [
        "# Extracting features using TF-IDF (1,2) - unigrams and bigrams\n",
        "vectoriser = TfidfVectorizer(ngram_range=(1,2), max_features=500000)\n",
        "vectoriser.fit(X_train)\n",
        "print('No. of feature_words: ', len(vectoriser.get_feature_names()))\n",
        "\n",
        "# Transforming the data using TD-IDF Vectorizer\n",
        "X_train = vectoriser.transform(X_train)\n",
        "X_test  = vectoriser.transform(X_test)"
      ],
      "metadata": {
        "id": "41n6_SwiDeId",
        "colab": {
          "base_uri": "https://localhost:8080/"
        },
        "outputId": "9de5f572-b5f6-43c3-c13c-3477322726ef"
      },
      "execution_count": 47,
      "outputs": [
        {
          "output_type": "stream",
          "name": "stdout",
          "text": [
            "No. of feature_words:  46081\n"
          ]
        }
      ]
    },
    {
      "cell_type": "markdown",
      "source": [
        "### Results:"
      ],
      "metadata": {
        "id": "xjsFLF7oDiFq"
      }
    },
    {
      "cell_type": "code",
      "source": [
        "%%time\n",
        "\n",
        "# implemented GridSearchCV for four models using a loop and a previously created dictionary\n",
        "# in the created variable 'scores', results are stored for each model such as: model, best_score and best_params.\n",
        "\n",
        "\n",
        "scores = []\n",
        "\n",
        "for model_name, mp in model_params.items():\n",
        "    clf = GridSearchCV(mp['model'], mp['params'], cv=5, n_jobs=-1, verbose=1) # Using Cross Validation of 5 and n_jobs=-1 for fast training by using all the processors\n",
        "    print(mp['model'])\n",
        "    print('\\nTraining the model...')\n",
        "    best_model = clf.fit(X_train, y_train)                      # Training the model\n",
        "    clf_pred = best_model.predict(X_test)                       # Predicting the results\n",
        "    print(confusion_matrix(y_test,clf_pred))                    # Printing Confusion Matrix\n",
        "    print(metrics.classification_report(y_test, clf_pred))      # Printing Classification Report\n",
        "    scores.append({                                             # Appending results to 'scores' list\n",
        "        'model' : model_name,\n",
        "        'best_score' : best_model.score(X_test, y_test),\n",
        "        'best_params' : clf.best_params_\n",
        "    })\n",
        "    print('\\nScore is appended.\\n')\n",
        "    \n",
        "# Creating data frame with model, best scores and best params:\n",
        "res6 = pd.DataFrame(scores, columns=['model', 'best_score', 'best_params'])"
      ],
      "metadata": {
        "id": "8o8sxaB8DjAC",
        "colab": {
          "base_uri": "https://localhost:8080/"
        },
        "outputId": "03eec839-7c67-47f3-dd09-51507d07cbec"
      },
      "execution_count": 48,
      "outputs": [
        {
          "output_type": "stream",
          "name": "stdout",
          "text": [
            "SVC()\n",
            "\n",
            "Training the model...\n",
            "Fitting 5 folds for each of 36 candidates, totalling 180 fits\n",
            "[[713 130]\n",
            " [179 479]]\n",
            "              precision    recall  f1-score   support\n",
            "\n",
            "           0       0.80      0.85      0.82       843\n",
            "           1       0.79      0.73      0.76       658\n",
            "\n",
            "    accuracy                           0.79      1501\n",
            "   macro avg       0.79      0.79      0.79      1501\n",
            "weighted avg       0.79      0.79      0.79      1501\n",
            "\n",
            "\n",
            "Score is appended.\n",
            "\n",
            "MultinomialNB()\n",
            "\n",
            "Training the model...\n",
            "Fitting 5 folds for each of 12 candidates, totalling 60 fits\n",
            "[[760  83]\n",
            " [222 436]]\n",
            "              precision    recall  f1-score   support\n",
            "\n",
            "           0       0.77      0.90      0.83       843\n",
            "           1       0.84      0.66      0.74       658\n",
            "\n",
            "    accuracy                           0.80      1501\n",
            "   macro avg       0.81      0.78      0.79      1501\n",
            "weighted avg       0.80      0.80      0.79      1501\n",
            "\n",
            "\n",
            "Score is appended.\n",
            "\n",
            "LogisticRegression()\n",
            "\n",
            "Training the model...\n",
            "Fitting 5 folds for each of 14 candidates, totalling 70 fits\n",
            "[[701 142]\n",
            " [180 478]]\n",
            "              precision    recall  f1-score   support\n",
            "\n",
            "           0       0.80      0.83      0.81       843\n",
            "           1       0.77      0.73      0.75       658\n",
            "\n",
            "    accuracy                           0.79      1501\n",
            "   macro avg       0.78      0.78      0.78      1501\n",
            "weighted avg       0.78      0.79      0.78      1501\n",
            "\n",
            "\n",
            "Score is appended.\n",
            "\n",
            "KNeighborsClassifier()\n",
            "\n",
            "Training the model...\n",
            "Fitting 5 folds for each of 14 candidates, totalling 70 fits\n",
            "[[730 113]\n",
            " [212 446]]\n",
            "              precision    recall  f1-score   support\n",
            "\n",
            "           0       0.77      0.87      0.82       843\n",
            "           1       0.80      0.68      0.73       658\n",
            "\n",
            "    accuracy                           0.78      1501\n",
            "   macro avg       0.79      0.77      0.78      1501\n",
            "weighted avg       0.78      0.78      0.78      1501\n",
            "\n",
            "\n",
            "Score is appended.\n",
            "\n",
            "RandomForestClassifier()\n",
            "\n",
            "Training the model...\n",
            "Fitting 5 folds for each of 18 candidates, totalling 90 fits\n",
            "[[742 101]\n",
            " [231 427]]\n",
            "              precision    recall  f1-score   support\n",
            "\n",
            "           0       0.76      0.88      0.82       843\n",
            "           1       0.81      0.65      0.72       658\n",
            "\n",
            "    accuracy                           0.78      1501\n",
            "   macro avg       0.79      0.76      0.77      1501\n",
            "weighted avg       0.78      0.78      0.77      1501\n",
            "\n",
            "\n",
            "Score is appended.\n",
            "\n",
            "AdaBoostClassifier()\n",
            "\n",
            "Training the model...\n",
            "Fitting 5 folds for each of 9 candidates, totalling 45 fits\n",
            "[[747  96]\n",
            " [270 388]]\n",
            "              precision    recall  f1-score   support\n",
            "\n",
            "           0       0.73      0.89      0.80       843\n",
            "           1       0.80      0.59      0.68       658\n",
            "\n",
            "    accuracy                           0.76      1501\n",
            "   macro avg       0.77      0.74      0.74      1501\n",
            "weighted avg       0.76      0.76      0.75      1501\n",
            "\n",
            "\n",
            "Score is appended.\n",
            "\n",
            "CPU times: user 1min 1s, sys: 2.34 s, total: 1min 3s\n",
            "Wall time: 36min 49s\n"
          ]
        }
      ]
    },
    {
      "cell_type": "code",
      "source": [
        "res6"
      ],
      "metadata": {
        "id": "PFNJ815xgsru",
        "colab": {
          "base_uri": "https://localhost:8080/",
          "height": 237
        },
        "outputId": "60fdc173-44e9-461c-f389-d90c844ad9a9"
      },
      "execution_count": 49,
      "outputs": [
        {
          "output_type": "execute_result",
          "data": {
            "text/plain": [
              "                  model  best_score  \\\n",
              "0  SVC                   0.794137     \n",
              "1  MultinomialNB         0.796802     \n",
              "2  logistics_regression  0.785476     \n",
              "3  K_Nearest_Neighbors   0.783478     \n",
              "4  random_forest         0.778814     \n",
              "5  AdaBoost              0.756163     \n",
              "\n",
              "                                                        best_params  \n",
              "0  {'C': 1, 'gamma': 1, 'kernel': 'linear'}                          \n",
              "1  {'alpha': 0.5, 'fit_prior': True}                                 \n",
              "2  {'C': 20, 'solver': 'liblinear'}                                  \n",
              "3  {'n_neighbors': 50, 'weights': 'distance'}                        \n",
              "4  {'criterion': 'entropy', 'max_depth': None, 'n_estimators': 150}  \n",
              "5  {'learning_rate': 0.5, 'n_estimators': 150}                       "
            ],
            "text/html": [
              "\n",
              "  <div id=\"df-fa5624cf-757b-4495-b99d-b6d73b63e719\">\n",
              "    <div class=\"colab-df-container\">\n",
              "      <div>\n",
              "<style scoped>\n",
              "    .dataframe tbody tr th:only-of-type {\n",
              "        vertical-align: middle;\n",
              "    }\n",
              "\n",
              "    .dataframe tbody tr th {\n",
              "        vertical-align: top;\n",
              "    }\n",
              "\n",
              "    .dataframe thead th {\n",
              "        text-align: right;\n",
              "    }\n",
              "</style>\n",
              "<table border=\"1\" class=\"dataframe\">\n",
              "  <thead>\n",
              "    <tr style=\"text-align: right;\">\n",
              "      <th></th>\n",
              "      <th>model</th>\n",
              "      <th>best_score</th>\n",
              "      <th>best_params</th>\n",
              "    </tr>\n",
              "  </thead>\n",
              "  <tbody>\n",
              "    <tr>\n",
              "      <th>0</th>\n",
              "      <td>SVC</td>\n",
              "      <td>0.794137</td>\n",
              "      <td>{'C': 1, 'gamma': 1, 'kernel': 'linear'}</td>\n",
              "    </tr>\n",
              "    <tr>\n",
              "      <th>1</th>\n",
              "      <td>MultinomialNB</td>\n",
              "      <td>0.796802</td>\n",
              "      <td>{'alpha': 0.5, 'fit_prior': True}</td>\n",
              "    </tr>\n",
              "    <tr>\n",
              "      <th>2</th>\n",
              "      <td>logistics_regression</td>\n",
              "      <td>0.785476</td>\n",
              "      <td>{'C': 20, 'solver': 'liblinear'}</td>\n",
              "    </tr>\n",
              "    <tr>\n",
              "      <th>3</th>\n",
              "      <td>K_Nearest_Neighbors</td>\n",
              "      <td>0.783478</td>\n",
              "      <td>{'n_neighbors': 50, 'weights': 'distance'}</td>\n",
              "    </tr>\n",
              "    <tr>\n",
              "      <th>4</th>\n",
              "      <td>random_forest</td>\n",
              "      <td>0.778814</td>\n",
              "      <td>{'criterion': 'entropy', 'max_depth': None, 'n_estimators': 150}</td>\n",
              "    </tr>\n",
              "    <tr>\n",
              "      <th>5</th>\n",
              "      <td>AdaBoost</td>\n",
              "      <td>0.756163</td>\n",
              "      <td>{'learning_rate': 0.5, 'n_estimators': 150}</td>\n",
              "    </tr>\n",
              "  </tbody>\n",
              "</table>\n",
              "</div>\n",
              "      <button class=\"colab-df-convert\" onclick=\"convertToInteractive('df-fa5624cf-757b-4495-b99d-b6d73b63e719')\"\n",
              "              title=\"Convert this dataframe to an interactive table.\"\n",
              "              style=\"display:none;\">\n",
              "        \n",
              "  <svg xmlns=\"http://www.w3.org/2000/svg\" height=\"24px\"viewBox=\"0 0 24 24\"\n",
              "       width=\"24px\">\n",
              "    <path d=\"M0 0h24v24H0V0z\" fill=\"none\"/>\n",
              "    <path d=\"M18.56 5.44l.94 2.06.94-2.06 2.06-.94-2.06-.94-.94-2.06-.94 2.06-2.06.94zm-11 1L8.5 8.5l.94-2.06 2.06-.94-2.06-.94L8.5 2.5l-.94 2.06-2.06.94zm10 10l.94 2.06.94-2.06 2.06-.94-2.06-.94-.94-2.06-.94 2.06-2.06.94z\"/><path d=\"M17.41 7.96l-1.37-1.37c-.4-.4-.92-.59-1.43-.59-.52 0-1.04.2-1.43.59L10.3 9.45l-7.72 7.72c-.78.78-.78 2.05 0 2.83L4 21.41c.39.39.9.59 1.41.59.51 0 1.02-.2 1.41-.59l7.78-7.78 2.81-2.81c.8-.78.8-2.07 0-2.86zM5.41 20L4 18.59l7.72-7.72 1.47 1.35L5.41 20z\"/>\n",
              "  </svg>\n",
              "      </button>\n",
              "      \n",
              "  <style>\n",
              "    .colab-df-container {\n",
              "      display:flex;\n",
              "      flex-wrap:wrap;\n",
              "      gap: 12px;\n",
              "    }\n",
              "\n",
              "    .colab-df-convert {\n",
              "      background-color: #E8F0FE;\n",
              "      border: none;\n",
              "      border-radius: 50%;\n",
              "      cursor: pointer;\n",
              "      display: none;\n",
              "      fill: #1967D2;\n",
              "      height: 32px;\n",
              "      padding: 0 0 0 0;\n",
              "      width: 32px;\n",
              "    }\n",
              "\n",
              "    .colab-df-convert:hover {\n",
              "      background-color: #E2EBFA;\n",
              "      box-shadow: 0px 1px 2px rgba(60, 64, 67, 0.3), 0px 1px 3px 1px rgba(60, 64, 67, 0.15);\n",
              "      fill: #174EA6;\n",
              "    }\n",
              "\n",
              "    [theme=dark] .colab-df-convert {\n",
              "      background-color: #3B4455;\n",
              "      fill: #D2E3FC;\n",
              "    }\n",
              "\n",
              "    [theme=dark] .colab-df-convert:hover {\n",
              "      background-color: #434B5C;\n",
              "      box-shadow: 0px 1px 3px 1px rgba(0, 0, 0, 0.15);\n",
              "      filter: drop-shadow(0px 1px 2px rgba(0, 0, 0, 0.3));\n",
              "      fill: #FFFFFF;\n",
              "    }\n",
              "  </style>\n",
              "\n",
              "      <script>\n",
              "        const buttonEl =\n",
              "          document.querySelector('#df-fa5624cf-757b-4495-b99d-b6d73b63e719 button.colab-df-convert');\n",
              "        buttonEl.style.display =\n",
              "          google.colab.kernel.accessAllowed ? 'block' : 'none';\n",
              "\n",
              "        async function convertToInteractive(key) {\n",
              "          const element = document.querySelector('#df-fa5624cf-757b-4495-b99d-b6d73b63e719');\n",
              "          const dataTable =\n",
              "            await google.colab.kernel.invokeFunction('convertToInteractive',\n",
              "                                                     [key], {});\n",
              "          if (!dataTable) return;\n",
              "\n",
              "          const docLinkHtml = 'Like what you see? Visit the ' +\n",
              "            '<a target=\"_blank\" href=https://colab.research.google.com/notebooks/data_table.ipynb>data table notebook</a>'\n",
              "            + ' to learn more about interactive tables.';\n",
              "          element.innerHTML = '';\n",
              "          dataTable['output_type'] = 'display_data';\n",
              "          await google.colab.output.renderOutput(dataTable, element);\n",
              "          const docLink = document.createElement('div');\n",
              "          docLink.innerHTML = docLinkHtml;\n",
              "          element.appendChild(docLink);\n",
              "        }\n",
              "      </script>\n",
              "    </div>\n",
              "  </div>\n",
              "  "
            ]
          },
          "metadata": {},
          "execution_count": 49
        }
      ]
    },
    {
      "cell_type": "markdown",
      "source": [
        "## Setup 7: Models without removing any setup:"
      ],
      "metadata": {
        "id": "B6utuN_6Dlog"
      }
    },
    {
      "cell_type": "code",
      "source": [
        "# Creating a df that is copy of the train set.\n",
        "df = train.copy()"
      ],
      "metadata": {
        "id": "bCjsBC4vDplV"
      },
      "execution_count": 50,
      "outputs": []
    },
    {
      "cell_type": "markdown",
      "source": [
        "### Splitting data into Train and Test :"
      ],
      "metadata": {
        "id": "uvkLXGk9DsNn"
      }
    },
    {
      "cell_type": "code",
      "source": [
        "# Splitting data into Train and Test sets:\n",
        "X = df['text']\n",
        "y = df['target']\n",
        "X_train, X_test, y_train, y_test =  train_test_split(X, y, test_size = 0.2, random_state = 3)"
      ],
      "metadata": {
        "id": "qRSqjg8zDuQA"
      },
      "execution_count": 51,
      "outputs": []
    },
    {
      "cell_type": "markdown",
      "source": [
        "### Transforming dataset using TF-IDF Vectorizer:"
      ],
      "metadata": {
        "id": "t0dBuXCbDu_G"
      }
    },
    {
      "cell_type": "code",
      "source": [
        "# Extracting features using TF-IDF (1,2) - unigrams and bigrams\n",
        "vectoriser = TfidfVectorizer(ngram_range=(1,2), max_features=500000)\n",
        "vectoriser.fit(X_train)\n",
        "print('No. of feature_words: ', len(vectoriser.get_feature_names()))\n",
        "\n",
        "# Transforming the data using TD-IDF Vectorizer\n",
        "X_train = vectoriser.transform(X_train)\n",
        "X_test  = vectoriser.transform(X_test)"
      ],
      "metadata": {
        "id": "vNP0oXsUDxn9",
        "colab": {
          "base_uri": "https://localhost:8080/"
        },
        "outputId": "b97220cc-bbd5-4487-c916-dc3c4e5c43cf"
      },
      "execution_count": 52,
      "outputs": [
        {
          "output_type": "stream",
          "name": "stdout",
          "text": [
            "No. of feature_words:  62117\n"
          ]
        }
      ]
    },
    {
      "cell_type": "markdown",
      "source": [
        "### Results:"
      ],
      "metadata": {
        "id": "OTmbwG0iDzzl"
      }
    },
    {
      "cell_type": "code",
      "source": [
        "%%time\n",
        "\n",
        "# implemented GridSearchCV for four models using a loop and a previously created dictionary\n",
        "# in the created variable 'scores', results are stored for each model such as: model, best_score and best_params.\n",
        "\n",
        "\n",
        "scores = []\n",
        "\n",
        "for model_name, mp in model_params.items():\n",
        "    clf = GridSearchCV(mp['model'], mp['params'], cv=5, n_jobs=-1, verbose=1) # Using Cross Validation of 5 and n_jobs=-1 for fast training by using all the processors\n",
        "    print(mp['model'])\n",
        "    print('\\nTraining the model...')\n",
        "    best_model = clf.fit(X_train, y_train)                      # Training the model\n",
        "    clf_pred = best_model.predict(X_test)                       # Predicting the results\n",
        "    print(confusion_matrix(y_test,clf_pred))                    # Printing Confusion Matrix\n",
        "    print(metrics.classification_report(y_test, clf_pred))      # Printing Classification Report\n",
        "    scores.append({                                             # Appending results to 'scores' list\n",
        "        'model' : model_name,\n",
        "        'best_score' : best_model.score(X_test, y_test),\n",
        "        'best_params' : clf.best_params_\n",
        "    })\n",
        "    print('\\nScore is appended.\\n')\n",
        "    \n",
        "# Creating data frame with model, best scores and best params:\n",
        "res7 = pd.DataFrame(scores, columns=['model', 'best_score', 'best_params'])"
      ],
      "metadata": {
        "id": "HdU5z86wD1_o",
        "colab": {
          "base_uri": "https://localhost:8080/"
        },
        "outputId": "4c0e0985-b099-4ad4-e35d-067e667be381"
      },
      "execution_count": 53,
      "outputs": [
        {
          "output_type": "stream",
          "name": "stdout",
          "text": [
            "SVC()\n",
            "\n",
            "Training the model...\n",
            "Fitting 5 folds for each of 36 candidates, totalling 180 fits\n",
            "[[736 107]\n",
            " [187 471]]\n",
            "              precision    recall  f1-score   support\n",
            "\n",
            "           0       0.80      0.87      0.83       843\n",
            "           1       0.81      0.72      0.76       658\n",
            "\n",
            "    accuracy                           0.80      1501\n",
            "   macro avg       0.81      0.79      0.80      1501\n",
            "weighted avg       0.81      0.80      0.80      1501\n",
            "\n",
            "\n",
            "Score is appended.\n",
            "\n",
            "MultinomialNB()\n",
            "\n",
            "Training the model...\n",
            "Fitting 5 folds for each of 12 candidates, totalling 60 fits\n",
            "[[777  66]\n",
            " [233 425]]\n",
            "              precision    recall  f1-score   support\n",
            "\n",
            "           0       0.77      0.92      0.84       843\n",
            "           1       0.87      0.65      0.74       658\n",
            "\n",
            "    accuracy                           0.80      1501\n",
            "   macro avg       0.82      0.78      0.79      1501\n",
            "weighted avg       0.81      0.80      0.80      1501\n",
            "\n",
            "\n",
            "Score is appended.\n",
            "\n",
            "LogisticRegression()\n",
            "\n",
            "Training the model...\n",
            "Fitting 5 folds for each of 14 candidates, totalling 70 fits\n",
            "[[705 138]\n",
            " [180 478]]\n",
            "              precision    recall  f1-score   support\n",
            "\n",
            "           0       0.80      0.84      0.82       843\n",
            "           1       0.78      0.73      0.75       658\n",
            "\n",
            "    accuracy                           0.79      1501\n",
            "   macro avg       0.79      0.78      0.78      1501\n",
            "weighted avg       0.79      0.79      0.79      1501\n",
            "\n",
            "\n",
            "Score is appended.\n",
            "\n",
            "KNeighborsClassifier()\n",
            "\n",
            "Training the model...\n",
            "Fitting 5 folds for each of 14 candidates, totalling 70 fits\n",
            "[[753  90]\n",
            " [230 428]]\n",
            "              precision    recall  f1-score   support\n",
            "\n",
            "           0       0.77      0.89      0.82       843\n",
            "           1       0.83      0.65      0.73       658\n",
            "\n",
            "    accuracy                           0.79      1501\n",
            "   macro avg       0.80      0.77      0.78      1501\n",
            "weighted avg       0.79      0.79      0.78      1501\n",
            "\n",
            "\n",
            "Score is appended.\n",
            "\n",
            "RandomForestClassifier()\n",
            "\n",
            "Training the model...\n",
            "Fitting 5 folds for each of 18 candidates, totalling 90 fits\n",
            "[[764  79]\n",
            " [277 381]]\n",
            "              precision    recall  f1-score   support\n",
            "\n",
            "           0       0.73      0.91      0.81       843\n",
            "           1       0.83      0.58      0.68       658\n",
            "\n",
            "    accuracy                           0.76      1501\n",
            "   macro avg       0.78      0.74      0.75      1501\n",
            "weighted avg       0.78      0.76      0.75      1501\n",
            "\n",
            "\n",
            "Score is appended.\n",
            "\n",
            "AdaBoostClassifier()\n",
            "\n",
            "Training the model...\n",
            "Fitting 5 folds for each of 9 candidates, totalling 45 fits\n",
            "[[718 125]\n",
            " [260 398]]\n",
            "              precision    recall  f1-score   support\n",
            "\n",
            "           0       0.73      0.85      0.79       843\n",
            "           1       0.76      0.60      0.67       658\n",
            "\n",
            "    accuracy                           0.74      1501\n",
            "   macro avg       0.75      0.73      0.73      1501\n",
            "weighted avg       0.75      0.74      0.74      1501\n",
            "\n",
            "\n",
            "Score is appended.\n",
            "\n",
            "CPU times: user 58 s, sys: 4.29 s, total: 1min 2s\n",
            "Wall time: 44min 58s\n"
          ]
        }
      ]
    },
    {
      "cell_type": "code",
      "source": [
        "res7"
      ],
      "metadata": {
        "id": "Qp16wGnNgxWl",
        "colab": {
          "base_uri": "https://localhost:8080/",
          "height": 545
        },
        "outputId": "a5f99a62-b692-4c9a-b3d4-e5463b4b4c0d"
      },
      "execution_count": 54,
      "outputs": [
        {
          "output_type": "execute_result",
          "data": {
            "text/plain": [
              "                  model  best_score  \\\n",
              "0  SVC                   0.804131     \n",
              "1  MultinomialNB         0.800799     \n",
              "2  logistics_regression  0.788141     \n",
              "3  K_Nearest_Neighbors   0.786809     \n",
              "4  random_forest         0.762825     \n",
              "5  AdaBoost              0.743504     \n",
              "\n",
              "                                                        best_params  \n",
              "0  {'C': 1, 'gamma': 1, 'kernel': 'linear'}                          \n",
              "1  {'alpha': 0.5, 'fit_prior': True}                                 \n",
              "2  {'C': 40, 'solver': 'lbfgs'}                                      \n",
              "3  {'n_neighbors': 80, 'weights': 'distance'}                        \n",
              "4  {'criterion': 'entropy', 'max_depth': None, 'n_estimators': 100}  \n",
              "5  {'learning_rate': 0.5, 'n_estimators': 150}                       "
            ],
            "text/html": [
              "\n",
              "  <div id=\"df-a4e5adbf-b948-435e-ac63-ab141c1d4f90\">\n",
              "    <div class=\"colab-df-container\">\n",
              "      <div>\n",
              "<style scoped>\n",
              "    .dataframe tbody tr th:only-of-type {\n",
              "        vertical-align: middle;\n",
              "    }\n",
              "\n",
              "    .dataframe tbody tr th {\n",
              "        vertical-align: top;\n",
              "    }\n",
              "\n",
              "    .dataframe thead th {\n",
              "        text-align: right;\n",
              "    }\n",
              "</style>\n",
              "<table border=\"1\" class=\"dataframe\">\n",
              "  <thead>\n",
              "    <tr style=\"text-align: right;\">\n",
              "      <th></th>\n",
              "      <th>model</th>\n",
              "      <th>best_score</th>\n",
              "      <th>best_params</th>\n",
              "    </tr>\n",
              "  </thead>\n",
              "  <tbody>\n",
              "    <tr>\n",
              "      <th>0</th>\n",
              "      <td>SVC</td>\n",
              "      <td>0.804131</td>\n",
              "      <td>{'C': 1, 'gamma': 1, 'kernel': 'linear'}</td>\n",
              "    </tr>\n",
              "    <tr>\n",
              "      <th>1</th>\n",
              "      <td>MultinomialNB</td>\n",
              "      <td>0.800799</td>\n",
              "      <td>{'alpha': 0.5, 'fit_prior': True}</td>\n",
              "    </tr>\n",
              "    <tr>\n",
              "      <th>2</th>\n",
              "      <td>logistics_regression</td>\n",
              "      <td>0.788141</td>\n",
              "      <td>{'C': 40, 'solver': 'lbfgs'}</td>\n",
              "    </tr>\n",
              "    <tr>\n",
              "      <th>3</th>\n",
              "      <td>K_Nearest_Neighbors</td>\n",
              "      <td>0.786809</td>\n",
              "      <td>{'n_neighbors': 80, 'weights': 'distance'}</td>\n",
              "    </tr>\n",
              "    <tr>\n",
              "      <th>4</th>\n",
              "      <td>random_forest</td>\n",
              "      <td>0.762825</td>\n",
              "      <td>{'criterion': 'entropy', 'max_depth': None, 'n_estimators': 100}</td>\n",
              "    </tr>\n",
              "    <tr>\n",
              "      <th>5</th>\n",
              "      <td>AdaBoost</td>\n",
              "      <td>0.743504</td>\n",
              "      <td>{'learning_rate': 0.5, 'n_estimators': 150}</td>\n",
              "    </tr>\n",
              "  </tbody>\n",
              "</table>\n",
              "</div>\n",
              "      <button class=\"colab-df-convert\" onclick=\"convertToInteractive('df-a4e5adbf-b948-435e-ac63-ab141c1d4f90')\"\n",
              "              title=\"Convert this dataframe to an interactive table.\"\n",
              "              style=\"display:none;\">\n",
              "        \n",
              "  <svg xmlns=\"http://www.w3.org/2000/svg\" height=\"24px\"viewBox=\"0 0 24 24\"\n",
              "       width=\"24px\">\n",
              "    <path d=\"M0 0h24v24H0V0z\" fill=\"none\"/>\n",
              "    <path d=\"M18.56 5.44l.94 2.06.94-2.06 2.06-.94-2.06-.94-.94-2.06-.94 2.06-2.06.94zm-11 1L8.5 8.5l.94-2.06 2.06-.94-2.06-.94L8.5 2.5l-.94 2.06-2.06.94zm10 10l.94 2.06.94-2.06 2.06-.94-2.06-.94-.94-2.06-.94 2.06-2.06.94z\"/><path d=\"M17.41 7.96l-1.37-1.37c-.4-.4-.92-.59-1.43-.59-.52 0-1.04.2-1.43.59L10.3 9.45l-7.72 7.72c-.78.78-.78 2.05 0 2.83L4 21.41c.39.39.9.59 1.41.59.51 0 1.02-.2 1.41-.59l7.78-7.78 2.81-2.81c.8-.78.8-2.07 0-2.86zM5.41 20L4 18.59l7.72-7.72 1.47 1.35L5.41 20z\"/>\n",
              "  </svg>\n",
              "      </button>\n",
              "      \n",
              "  <style>\n",
              "    .colab-df-container {\n",
              "      display:flex;\n",
              "      flex-wrap:wrap;\n",
              "      gap: 12px;\n",
              "    }\n",
              "\n",
              "    .colab-df-convert {\n",
              "      background-color: #E8F0FE;\n",
              "      border: none;\n",
              "      border-radius: 50%;\n",
              "      cursor: pointer;\n",
              "      display: none;\n",
              "      fill: #1967D2;\n",
              "      height: 32px;\n",
              "      padding: 0 0 0 0;\n",
              "      width: 32px;\n",
              "    }\n",
              "\n",
              "    .colab-df-convert:hover {\n",
              "      background-color: #E2EBFA;\n",
              "      box-shadow: 0px 1px 2px rgba(60, 64, 67, 0.3), 0px 1px 3px 1px rgba(60, 64, 67, 0.15);\n",
              "      fill: #174EA6;\n",
              "    }\n",
              "\n",
              "    [theme=dark] .colab-df-convert {\n",
              "      background-color: #3B4455;\n",
              "      fill: #D2E3FC;\n",
              "    }\n",
              "\n",
              "    [theme=dark] .colab-df-convert:hover {\n",
              "      background-color: #434B5C;\n",
              "      box-shadow: 0px 1px 3px 1px rgba(0, 0, 0, 0.15);\n",
              "      filter: drop-shadow(0px 1px 2px rgba(0, 0, 0, 0.3));\n",
              "      fill: #FFFFFF;\n",
              "    }\n",
              "  </style>\n",
              "\n",
              "      <script>\n",
              "        const buttonEl =\n",
              "          document.querySelector('#df-a4e5adbf-b948-435e-ac63-ab141c1d4f90 button.colab-df-convert');\n",
              "        buttonEl.style.display =\n",
              "          google.colab.kernel.accessAllowed ? 'block' : 'none';\n",
              "\n",
              "        async function convertToInteractive(key) {\n",
              "          const element = document.querySelector('#df-a4e5adbf-b948-435e-ac63-ab141c1d4f90');\n",
              "          const dataTable =\n",
              "            await google.colab.kernel.invokeFunction('convertToInteractive',\n",
              "                                                     [key], {});\n",
              "          if (!dataTable) return;\n",
              "\n",
              "          const docLinkHtml = 'Like what you see? Visit the ' +\n",
              "            '<a target=\"_blank\" href=https://colab.research.google.com/notebooks/data_table.ipynb>data table notebook</a>'\n",
              "            + ' to learn more about interactive tables.';\n",
              "          element.innerHTML = '';\n",
              "          dataTable['output_type'] = 'display_data';\n",
              "          await google.colab.output.renderOutput(dataTable, element);\n",
              "          const docLink = document.createElement('div');\n",
              "          docLink.innerHTML = docLinkHtml;\n",
              "          element.appendChild(docLink);\n",
              "        }\n",
              "      </script>\n",
              "    </div>\n",
              "  </div>\n",
              "  "
            ]
          },
          "metadata": {},
          "execution_count": 54
        }
      ]
    },
    {
      "cell_type": "markdown",
      "source": [
        "# Creating Submission file:\n",
        "It can be observed that **Setup-1 and 7** is performing best for SVM model. **Setup 6** will be used. Let's just train this model with 100% training data. This model will be used for predicting test file."
      ],
      "metadata": {
        "id": "RxTKra6wD7m7"
      }
    },
    {
      "cell_type": "code",
      "source": [
        "# Creating a df that is copy of the train set.\n",
        "df = train.copy()"
      ],
      "metadata": {
        "id": "XpX3nEnCdiCw"
      },
      "execution_count": 55,
      "outputs": []
    },
    {
      "cell_type": "markdown",
      "source": [
        "### Removing Punctuation:"
      ],
      "metadata": {
        "id": "1JhJDSMcdiCy"
      }
    },
    {
      "cell_type": "code",
      "source": [
        "import string\n",
        "string.punctuation\n",
        "\n",
        "punctuations_list = string.punctuation\n",
        "def cleaning_punctuations(text):\n",
        "    translator = str.maketrans('', '', punctuations_list)\n",
        "    return text.translate(translator)\n",
        "\n",
        "df['text'] = df['text'].apply(lambda x: cleaning_punctuations(x))"
      ],
      "metadata": {
        "id": "c_8TBznPdiC1"
      },
      "execution_count": 56,
      "outputs": []
    },
    {
      "cell_type": "markdown",
      "source": [
        "### Removing Stop-words: "
      ],
      "metadata": {
        "id": "3fsgXjr0diC5"
      }
    },
    {
      "cell_type": "code",
      "source": [
        "sw = stopwords.words('english')\n",
        "df['text'] = df['text'].apply(lambda x: ' '.join([word for word in x.split() if word not in (sw)]))"
      ],
      "metadata": {
        "id": "lrW1QUXzdiC7"
      },
      "execution_count": 57,
      "outputs": []
    },
    {
      "cell_type": "markdown",
      "source": [
        "### Removing Numbers:"
      ],
      "metadata": {
        "id": "EAhKMS40diC8"
      }
    },
    {
      "cell_type": "code",
      "source": [
        "def cleaning_numbers(text):\n",
        "    return re.sub('[0-9]+', '', text)\n",
        "\n",
        "df['text'] = df['text'].apply(lambda text: cleaning_numbers(text))"
      ],
      "metadata": {
        "id": "kGq44ldFdiC9"
      },
      "execution_count": 58,
      "outputs": []
    },
    {
      "cell_type": "markdown",
      "source": [
        "### Removing repeating characters:"
      ],
      "metadata": {
        "id": "JUJ6L1nbdiC-"
      }
    },
    {
      "cell_type": "code",
      "source": [
        "tokens = (word_tokenize(i) for i in df.text)\n",
        "df['text'] = df['text'].apply(nltk.word_tokenize)\n",
        "\n",
        "pattern = re.compile(r'(.)\\1*')\n",
        "\n",
        "def reduce_sequence_word(word):\n",
        "    return ''.join([match.group()[:2] if len(match.group()) > 2 else match.group() for match in pattern.finditer(word)])\n",
        "\n",
        "def reduce_sequence_tweet(tweet):\n",
        "    return [reduce_sequence_word(word) for word in tweet]\n",
        "\n",
        "df.text = df.text.apply(lambda tweet: reduce_sequence_tweet(tweet))"
      ],
      "metadata": {
        "id": "oCQb8P2odiC_"
      },
      "execution_count": 59,
      "outputs": []
    },
    {
      "cell_type": "markdown",
      "source": [
        "### Applying Stemming and Lemmatization:"
      ],
      "metadata": {
        "id": "DikXgjJEdiDC"
      }
    },
    {
      "cell_type": "code",
      "source": [
        "stemm = SnowballStemmer('english')\n",
        "df['text'] = df['text'].apply(lambda x: [stemm.stem(y) for y in x])"
      ],
      "metadata": {
        "id": "3SR_dyqqdiDD"
      },
      "execution_count": 60,
      "outputs": []
    },
    {
      "cell_type": "markdown",
      "source": [
        "### Splitting data into Train and Test :"
      ],
      "metadata": {
        "id": "U1JGZwbOdiDE"
      }
    },
    {
      "cell_type": "code",
      "source": [
        "# Splitting data into Train and Test sets:\n",
        "X = df['text'].astype(str)\n",
        "y = df['target'].astype(str)\n",
        "X_train, X_test, y_train, y_test =  train_test_split(X, y, test_size = 0.2, random_state = 3)"
      ],
      "metadata": {
        "id": "7GjBJ3uZdiDE"
      },
      "execution_count": 61,
      "outputs": []
    },
    {
      "cell_type": "markdown",
      "source": [
        "### Transforming dataset using TF-IDF Vectorizer:"
      ],
      "metadata": {
        "id": "slWQFDlJdiDF"
      }
    },
    {
      "cell_type": "code",
      "source": [
        "# Extracting features using TF-IDF (1,2) - unigrams and bigrams\n",
        "vectoriser = TfidfVectorizer(ngram_range=(1,2), max_features=500000)\n",
        "vectoriser.fit(X_train)\n",
        "print('No. of feature_words: ', len(vectoriser.get_feature_names()))\n",
        "\n",
        "# Transforming the data using TD-IDF Vectorizer\n",
        "X_train = vectoriser.transform(X_train)\n",
        "X_test  = vectoriser.transform(X_test)"
      ],
      "metadata": {
        "colab": {
          "base_uri": "https://localhost:8080/"
        },
        "id": "nMtU1MgsdiDF",
        "outputId": "355434c6-43ba-4a8d-9e9d-2cf8a133f552"
      },
      "execution_count": 62,
      "outputs": [
        {
          "output_type": "stream",
          "name": "stdout",
          "text": [
            "No. of feature_words:  46081\n"
          ]
        }
      ]
    },
    {
      "cell_type": "markdown",
      "source": [
        "### SVC model:"
      ],
      "metadata": {
        "id": "JEGyyp09EL-d"
      }
    },
    {
      "cell_type": "code",
      "source": [
        "svc = SVC()\n",
        "hyperParam = {'C': [0.1, 1, 10, 100], 'gamma': [1, 0.1, 0.01], 'kernel': ['rbf','linear','poly','sigmoid']}\n",
        "\n",
        "gsv = GridSearchCV(svc,hyperParam,cv=5,verbose=1,n_jobs=-1)  # Using Cross Validation of 5 and n_jobs=-1 for fast training by using all the processors\n",
        "best_model = gsv.fit(X_train, y_train)                       # Training model with X_train and y_train\n",
        "svc_pred = best_model.predict(X_test)                        # Predicting the results\n",
        "\n",
        "print(\"Best HyperParameter: \", gsv.best_params_)"
      ],
      "metadata": {
        "id": "TiDqhlaHEOrV",
        "colab": {
          "base_uri": "https://localhost:8080/"
        },
        "outputId": "afa161eb-e5b2-4fe7-be74-c01a59ee936f"
      },
      "execution_count": 63,
      "outputs": [
        {
          "output_type": "stream",
          "name": "stdout",
          "text": [
            "Fitting 5 folds for each of 48 candidates, totalling 240 fits\n",
            "Best HyperParameter:  {'C': 1, 'gamma': 1, 'kernel': 'linear'}\n"
          ]
        }
      ]
    },
    {
      "cell_type": "code",
      "source": [
        "from sklearn.metrics import accuracy_score\n",
        "print(\"The accuracy is:\", accuracy_score(y_test,svc_pred))"
      ],
      "metadata": {
        "colab": {
          "base_uri": "https://localhost:8080/"
        },
        "id": "yxaLOK_h1ivu",
        "outputId": "55a6d5e8-72cd-4eab-b20e-65499fe9ae69"
      },
      "execution_count": 96,
      "outputs": [
        {
          "output_type": "stream",
          "name": "stdout",
          "text": [
            "The accuracy is: 0.7941372418387741\n"
          ]
        }
      ]
    },
    {
      "cell_type": "code",
      "source": [
        "cv=confusion_matrix(y_test,svc_pred)\n",
        "sns.heatmap(cv,annot=True, fmt='g')"
      ],
      "metadata": {
        "colab": {
          "base_uri": "https://localhost:8080/",
          "height": 282
        },
        "id": "ZXXwts3jzeSA",
        "outputId": "f0a21a69-18d5-4f1c-cf26-b1fcec0f07d5"
      },
      "execution_count": 97,
      "outputs": [
        {
          "output_type": "execute_result",
          "data": {
            "text/plain": [
              "<matplotlib.axes._subplots.AxesSubplot at 0x7fc7ede82f50>"
            ]
          },
          "metadata": {},
          "execution_count": 97
        },
        {
          "output_type": "display_data",
          "data": {
            "text/plain": [
              "<Figure size 432x288 with 2 Axes>"
            ],
            "image/png": "[encoded data removed]"
          },
          "metadata": {
            "needs_background": "light"
          }
        }
      ]
    },
    {
      "cell_type": "markdown",
      "source": [
        "### Submission file:"
      ],
      "metadata": {
        "id": "CCiaDqsdETiJ"
      }
    },
    {
      "cell_type": "code",
      "source": [
        "print(svc_pred)\n",
        "print(type(svc_pred))\n",
        "\n",
        "my_array = svc_pred\n",
        "print(len(my_array))\n",
        "submission = pd.DataFrame({'Ground Truth':y_test,'Predicted':my_array})\n",
        "submission['id'] = test['id']\n",
        "submission = submission[['id','Ground Truth','Predicted']]\n",
        "submission.to_csv('submission.csv', index=False)\n",
        "submission"
      ],
      "metadata": {
        "id": "Eb4QsAxUETBi",
        "colab": {
          "base_uri": "https://localhost:8080/",
          "height": 476
        },
        "outputId": "26008fad-61a3-47e0-851d-9e1d6858c185"
      },
      "execution_count": 95,
      "outputs": [
        {
          "output_type": "stream",
          "name": "stdout",
          "text": [
            "['1' '0' '1' ... '0' '0' '1']\n",
            "<class 'numpy.ndarray'>\n",
            "1501\n"
          ]
        },
        {
          "output_type": "execute_result",
          "data": {
            "text/plain": [
              "          id Ground Truth Predicted\n",
              "7090 NaN      1            1       \n",
              "1275  4193.0  0            0       \n",
              "5721 NaN      1            1       \n",
              "2308  7710.0  0            0       \n",
              "244   780.0   0            0       \n",
              "...     ...  ..           ..       \n",
              "1785  6028.0  0            0       \n",
              "485   1578.0  0            0       \n",
              "3756 NaN      0            0       \n",
              "1604  5419.0  1            0       \n",
              "2664  8895.0  1            1       \n",
              "\n",
              "[1501 rows x 3 columns]"
            ],
            "text/html": [
              "\n",
              "  <div id=\"df-407829dd-773f-431a-a86e-c71861b4cf1b\">\n",
              "    <div class=\"colab-df-container\">\n",
              "      <div>\n",
              "<style scoped>\n",
              "    .dataframe tbody tr th:only-of-type {\n",
              "        vertical-align: middle;\n",
              "    }\n",
              "\n",
              "    .dataframe tbody tr th {\n",
              "        vertical-align: top;\n",
              "    }\n",
              "\n",
              "    .dataframe thead th {\n",
              "        text-align: right;\n",
              "    }\n",
              "</style>\n",
              "<table border=\"1\" class=\"dataframe\">\n",
              "  <thead>\n",
              "    <tr style=\"text-align: right;\">\n",
              "      <th></th>\n",
              "      <th>id</th>\n",
              "      <th>Ground Truth</th>\n",
              "      <th>Predicted</th>\n",
              "    </tr>\n",
              "  </thead>\n",
              "  <tbody>\n",
              "    <tr>\n",
              "      <th>7090</th>\n",
              "      <td>NaN</td>\n",
              "      <td>1</td>\n",
              "      <td>1</td>\n",
              "    </tr>\n",
              "    <tr>\n",
              "      <th>1275</th>\n",
              "      <td>4193.0</td>\n",
              "      <td>0</td>\n",
              "      <td>0</td>\n",
              "    </tr>\n",
              "    <tr>\n",
              "      <th>5721</th>\n",
              "      <td>NaN</td>\n",
              "      <td>1</td>\n",
              "      <td>1</td>\n",
              "    </tr>\n",
              "    <tr>\n",
              "      <th>2308</th>\n",
              "      <td>7710.0</td>\n",
              "      <td>0</td>\n",
              "      <td>0</td>\n",
              "    </tr>\n",
              "    <tr>\n",
              "      <th>244</th>\n",
              "      <td>780.0</td>\n",
              "      <td>0</td>\n",
              "      <td>0</td>\n",
              "    </tr>\n",
              "    <tr>\n",
              "      <th>...</th>\n",
              "      <td>...</td>\n",
              "      <td>...</td>\n",
              "      <td>...</td>\n",
              "    </tr>\n",
              "    <tr>\n",
              "      <th>1785</th>\n",
              "      <td>6028.0</td>\n",
              "      <td>0</td>\n",
              "      <td>0</td>\n",
              "    </tr>\n",
              "    <tr>\n",
              "      <th>485</th>\n",
              "      <td>1578.0</td>\n",
              "      <td>0</td>\n",
              "      <td>0</td>\n",
              "    </tr>\n",
              "    <tr>\n",
              "      <th>3756</th>\n",
              "      <td>NaN</td>\n",
              "      <td>0</td>\n",
              "      <td>0</td>\n",
              "    </tr>\n",
              "    <tr>\n",
              "      <th>1604</th>\n",
              "      <td>5419.0</td>\n",
              "      <td>1</td>\n",
              "      <td>0</td>\n",
              "    </tr>\n",
              "    <tr>\n",
              "      <th>2664</th>\n",
              "      <td>8895.0</td>\n",
              "      <td>1</td>\n",
              "      <td>1</td>\n",
              "    </tr>\n",
              "  </tbody>\n",
              "</table>\n",
              "<p>1501 rows × 3 columns</p>\n",
              "</div>\n",
              "      <button class=\"colab-df-convert\" onclick=\"convertToInteractive('df-407829dd-773f-431a-a86e-c71861b4cf1b')\"\n",
              "              title=\"Convert this dataframe to an interactive table.\"\n",
              "              style=\"display:none;\">\n",
              "        \n",
              "  <svg xmlns=\"http://www.w3.org/2000/svg\" height=\"24px\"viewBox=\"0 0 24 24\"\n",
              "       width=\"24px\">\n",
              "    <path d=\"M0 0h24v24H0V0z\" fill=\"none\"/>\n",
              "    <path d=\"M18.56 5.44l.94 2.06.94-2.06 2.06-.94-2.06-.94-.94-2.06-.94 2.06-2.06.94zm-11 1L8.5 8.5l.94-2.06 2.06-.94-2.06-.94L8.5 2.5l-.94 2.06-2.06.94zm10 10l.94 2.06.94-2.06 2.06-.94-2.06-.94-.94-2.06-.94 2.06-2.06.94z\"/><path d=\"M17.41 7.96l-1.37-1.37c-.4-.4-.92-.59-1.43-.59-.52 0-1.04.2-1.43.59L10.3 9.45l-7.72 7.72c-.78.78-.78 2.05 0 2.83L4 21.41c.39.39.9.59 1.41.59.51 0 1.02-.2 1.41-.59l7.78-7.78 2.81-2.81c.8-.78.8-2.07 0-2.86zM5.41 20L4 18.59l7.72-7.72 1.47 1.35L5.41 20z\"/>\n",
              "  </svg>\n",
              "      </button>\n",
              "      \n",
              "  <style>\n",
              "    .colab-df-container {\n",
              "      display:flex;\n",
              "      flex-wrap:wrap;\n",
              "      gap: 12px;\n",
              "    }\n",
              "\n",
              "    .colab-df-convert {\n",
              "      background-color: #E8F0FE;\n",
              "      border: none;\n",
              "      border-radius: 50%;\n",
              "      cursor: pointer;\n",
              "      display: none;\n",
              "      fill: #1967D2;\n",
              "      height: 32px;\n",
              "      padding: 0 0 0 0;\n",
              "      width: 32px;\n",
              "    }\n",
              "\n",
              "    .colab-df-convert:hover {\n",
              "      background-color: #E2EBFA;\n",
              "      box-shadow: 0px 1px 2px rgba(60, 64, 67, 0.3), 0px 1px 3px 1px rgba(60, 64, 67, 0.15);\n",
              "      fill: #174EA6;\n",
              "    }\n",
              "\n",
              "    [theme=dark] .colab-df-convert {\n",
              "      background-color: #3B4455;\n",
              "      fill: #D2E3FC;\n",
              "    }\n",
              "\n",
              "    [theme=dark] .colab-df-convert:hover {\n",
              "      background-color: #434B5C;\n",
              "      box-shadow: 0px 1px 3px 1px rgba(0, 0, 0, 0.15);\n",
              "      filter: drop-shadow(0px 1px 2px rgba(0, 0, 0, 0.3));\n",
              "      fill: #FFFFFF;\n",
              "    }\n",
              "  </style>\n",
              "\n",
              "      <script>\n",
              "        const buttonEl =\n",
              "          document.querySelector('#df-407829dd-773f-431a-a86e-c71861b4cf1b button.colab-df-convert');\n",
              "        buttonEl.style.display =\n",
              "          google.colab.kernel.accessAllowed ? 'block' : 'none';\n",
              "\n",
              "        async function convertToInteractive(key) {\n",
              "          const element = document.querySelector('#df-407829dd-773f-431a-a86e-c71861b4cf1b');\n",
              "          const dataTable =\n",
              "            await google.colab.kernel.invokeFunction('convertToInteractive',\n",
              "                                                     [key], {});\n",
              "          if (!dataTable) return;\n",
              "\n",
              "          const docLinkHtml = 'Like what you see? Visit the ' +\n",
              "            '<a target=\"_blank\" href=https://colab.research.google.com/notebooks/data_table.ipynb>data table notebook</a>'\n",
              "            + ' to learn more about interactive tables.';\n",
              "          element.innerHTML = '';\n",
              "          dataTable['output_type'] = 'display_data';\n",
              "          await google.colab.output.renderOutput(dataTable, element);\n",
              "          const docLink = document.createElement('div');\n",
              "          docLink.innerHTML = docLinkHtml;\n",
              "          element.appendChild(docLink);\n",
              "        }\n",
              "      </script>\n",
              "    </div>\n",
              "  </div>\n",
              "  "
            ]
          },
          "metadata": {},
          "execution_count": 95
        }
      ]
    }
  ]
}